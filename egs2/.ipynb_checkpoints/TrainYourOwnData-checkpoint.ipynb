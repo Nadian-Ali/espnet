{
 "cells": [
  {
   "cell_type": "markdown",
   "id": "a441c68d",
   "metadata": {},
   "source": [
    "<h1> To Do </h1>\n",
    "add overview notes"
   ]
  },
  {
   "cell_type": "markdown",
   "id": "f7480587",
   "metadata": {},
   "source": [
    "<p style = \"color:red\">Remove Project if You need to restart</p>\n"
   ]
  },
  {
   "cell_type": "code",
   "execution_count": 73,
   "id": "43ded8a2",
   "metadata": {},
   "outputs": [
    {
     "name": "stdout",
     "output_type": "stream",
     "text": [
      "/home/ec2-user/SageMaker/espnet/egs2\n"
     ]
    }
   ],
   "source": [
    "%cd /home/ec2-user/SageMaker/espnet/egs2\n",
    "!rm -rf Geeks #or the prjectName "
   ]
  },
  {
   "cell_type": "markdown",
   "id": "e4886efc",
   "metadata": {},
   "source": [
    "<h3> Move to the examples folder</h3>"
   ]
  },
  {
   "cell_type": "code",
   "execution_count": 53,
   "id": "aacf8dcb",
   "metadata": {},
   "outputs": [
    {
     "name": "stdout",
     "output_type": "stream",
     "text": [
      "/home/ec2-user/SageMaker/espnet/egs2\n"
     ]
    }
   ],
   "source": [
    "%cd /home/ec2-user/SageMaker/espnet/egs2"
   ]
  },
  {
   "cell_type": "markdown",
   "id": "1ef45e6b",
   "metadata": {},
   "source": [
    "<h1> Clone template to new directory</h1>\n",
    "<p>for our case we copy the text to speech template into Geeks/tts1</p>"
   ]
  },
  {
   "cell_type": "code",
   "execution_count": 85,
   "id": "ea987b74",
   "metadata": {},
   "outputs": [
    {
     "name": "stdout",
     "output_type": "stream",
     "text": [
      "2022-04-06T12:27:40 (setup.sh:71:main) Created: /home/ec2-user/SageMaker/espnet/egs2/Geeks/tts1//home/ec2-user/SageMaker/espnet/egs2/Geeks/tts1/../../TEMPLATE/tts1/cmd.sh /home/ec2-user/SageMaker/espnet/egs2/Geeks/tts1//home/ec2-user/SageMaker/espnet/egs2/Geeks/tts1/../../TEMPLATE/tts1/conf /home/ec2-user/SageMaker/espnet/egs2/Geeks/tts1//home/ec2-user/SageMaker/espnet/egs2/Geeks/tts1/../../TEMPLATE/tts1/local /home/ec2-user/SageMaker/espnet/egs2/Geeks/tts1/../../TEMPLATE/tts1/tts.sh /home/ec2-user/SageMaker/espnet/egs2/Geeks/tts1/../../TEMPLATE/tts1/path.sh /home/ec2-user/SageMaker/espnet/egs2/Geeks/tts1/../../TEMPLATE/asr1/db.sh /home/ec2-user/SageMaker/espnet/egs2/Geeks/tts1/../../TEMPLATE/asr1/scripts /home/ec2-user/SageMaker/espnet/egs2/Geeks/tts1/../../TEMPLATE/asr1/pyscripts /home/ec2-user/SageMaker/espnet/egs2/Geeks/tts1/../../../tools/kaldi/egs/wsj/s5/steps /home/ec2-user/SageMaker/espnet/egs2/Geeks/tts1/../../../tools/kaldi/egs/wsj/s5/utils /home/ec2-user/SageMaker/espnet/egs2/Geeks/tts1/../../../tools/kaldi/egs/sre08/v1/sid \n"
     ]
    }
   ],
   "source": [
    "! /home/ec2-user/SageMaker/espnet/egs2/TEMPLATE/tts1/setup.sh /home/ec2-user/SageMaker/espnet/egs2/Geeks/tts1"
   ]
  },
  {
   "cell_type": "code",
   "execution_count": 86,
   "id": "25259adf",
   "metadata": {},
   "outputs": [
    {
     "name": "stdout",
     "output_type": "stream",
     "text": [
      "/home/ec2-user/SageMaker/espnet/egs2/Geeks/tts1\n"
     ]
    }
   ],
   "source": [
    "%cd /home/ec2-user/SageMaker/espnet/egs2/Geeks/tts1"
   ]
  },
  {
   "cell_type": "markdown",
   "id": "3fe7ad05",
   "metadata": {},
   "source": [
    "<h1> You have to  have your data prepared </h1>\n",
    "<p>For this task I have downloaded the data on my local and prepared data into the desired format and continues from there</p>\n",
    "\n",
    "<p style=\"color:blue\"> put detail about the dataprepration.py</p>"
   ]
  },
  {
   "cell_type": "raw",
   "id": "19c3ced2",
   "metadata": {},
   "source": [
    "data should be formatted as \n",
    "\n",
    "\n",
    "|-- data\n",
    "|   |-- test\n",
    "|   |   |-- spk2utt  # Mapping a speaker-ID to a list of utterance-IDs\n",
    "|   |   |-- text     # Mapping a utterance-ID to a text\n",
    "|   |   |-- utt2spk  # Mappinng a utterance-ID to a speaker-ID\n",
    "|   |   `-- wav.scp  # Mappinng a utterance-ID to a path of audio file\n",
    "|   |-- train\n",
    "|   |   |-- spk2utt\n",
    "|   |   |-- text\n",
    "|   |   |-- utt2spk\n",
    "|   |   `-- wav.scp\n",
    "|   `-- valid\n",
    "|       |-- spk2utt\n",
    "|       |-- text\n",
    "|       |-- utt2spk\n",
    "|       `-- wav.scp"
   ]
  },
  {
   "cell_type": "markdown",
   "id": "2650d75d",
   "metadata": {},
   "source": [
    "<h2> data prepration step is allready done on local </h2>\n",
    "to do: integrate into the project"
   ]
  },
  {
   "cell_type": "raw",
   "id": "ac0a6dae",
   "metadata": {},
   "source": [
    "cd egs2/Geeks/tts1  # We always assume that our scripts are executed at this directory.\n",
    "\n",
    "# Assuming Stage1 creating `data`, so you can skip it if you have `data`.  \n",
    "./tts.sh \\\n",
    " --stage 2 \\\n",
    " --ngpu 1 \\\n",
    " --train_set train \\\n",
    " --valid_set valid \\\n",
    " --test_sets \"test\" \\  # you can add other things for test here e.g. \"test val\"\n",
    " \n",
    "# Use CUDA_VISIBLE_DEVICES to specify a gpu device id\n",
    "# If you meet CUDA out of memory error, change `batch_bins` ( or `batch_size`)\n",
    "\n",
    "\n",
    "train / val / test split is : 75% 20% 5%\n",
    "(we can condiered less data for validation as we dont have to worry much about overfitting)"
   ]
  },
  {
   "cell_type": "markdown",
   "id": "3ce6b1ac",
   "metadata": {},
   "source": [
    "<h2>Importing data into project </h2>\n",
    "there are two folder to import \n",
    "<ul>\n",
    "    <li> wavs :this hole all the wave files</li>\n",
    "    <li> Data : this is a directory with the Kaldi style format*</li>\n",
    "</ul>\n",
    "<p>* Kaldi is another toolbox for speech processing and espnet is following that style</p>   \n",
    "\n",
    "\n",
    "Store your wav and data folders az zip file in you S3 bucket.\n",
    "and then move them into your working directory, in this case: /home/ec2-user/SageMaker/espnet/egs2/Geeks/tts1\n",
    "\n",
    "* don't forget to configure aws in your ec2-instance terminal using : aws configure"
   ]
  },
  {
   "cell_type": "raw",
   "id": "19c0bc40",
   "metadata": {},
   "source": [
    "#aws s3 cp source destination \n",
    "\n",
    "source data  : s3://commonvoicesdataset/data.zip\n",
    "source wavs  : s3://commonvoicesdataset/wavs.zip\n",
    "\n",
    "destination data: /home/ec2-user/SageMaker/espnet/egs2/Geeks/tts1\n",
    "destination wavs: /home/ec2-user/SageMaker/espnet/egs2/Geeks/tts1\n",
    "    "
   ]
  },
  {
   "cell_type": "code",
   "execution_count": 76,
   "id": "64dc6743",
   "metadata": {},
   "outputs": [
    {
     "name": "stdout",
     "output_type": "stream",
     "text": [
      "download: s3://commonvoicesdataset/wavs.zip to Geeks/tts1/wavs.zip  \n"
     ]
    }
   ],
   "source": [
    "!aws s3 cp s3://commonvoicesdataset/wavs.zip /home/ec2-user/SageMaker/espnet/egs2/Geeks/tts1"
   ]
  },
  {
   "cell_type": "code",
   "execution_count": 77,
   "id": "2fccda08",
   "metadata": {},
   "outputs": [
    {
     "name": "stdout",
     "output_type": "stream",
     "text": [
      "download: s3://commonvoicesdataset/data.zip to Geeks/tts1/data.zip\n"
     ]
    }
   ],
   "source": [
    "!aws s3 cp s3://commonvoicesdataset/data.zip /home/ec2-user/SageMaker/espnet/egs2/Geeks/tts1"
   ]
  },
  {
   "cell_type": "markdown",
   "id": "f5d2ed14",
   "metadata": {},
   "source": [
    "<p> Unzip and then remove the zip folder</p>"
   ]
  },
  {
   "cell_type": "code",
   "execution_count": 87,
   "id": "e7772c86",
   "metadata": {},
   "outputs": [],
   "source": [
    "!unzip -q /home/ec2-user/SageMaker/espnet/egs2/Geeks/tts1/data.zip"
   ]
  },
  {
   "cell_type": "code",
   "execution_count": 88,
   "id": "64445304",
   "metadata": {},
   "outputs": [],
   "source": [
    "!unzip -q /home/ec2-user/SageMaker/espnet/egs2/Geeks/tts1/wavs.zip"
   ]
  },
  {
   "cell_type": "code",
   "execution_count": null,
   "id": "679dc115",
   "metadata": {},
   "outputs": [],
   "source": [
    "!rm wavs.zip"
   ]
  },
  {
   "cell_type": "code",
   "execution_count": 34,
   "id": "15a1a93f",
   "metadata": {},
   "outputs": [],
   "source": [
    "!rm data.zip\n"
   ]
  },
  {
   "cell_type": "code",
   "execution_count": 89,
   "id": "644f4728",
   "metadata": {},
   "outputs": [
    {
     "name": "stdout",
     "output_type": "stream",
     "text": [
      "2022-04-06T12:28:34 (tts.sh:211:main) ./tts.sh --stage 2 --ngpu 1 --train_set train --valid_set valid --test_sets test --stop-stage 2\n",
      "2022-04-06T12:28:35 (tts.sh:323:main) Stage 2: Format wav.scp: data/ -> dump/raw/\n",
      "utils/copy_data_dir.sh: copied data from data/train to dump/raw/org/train\n",
      "utils/validate_data_dir.sh: WARNING: you have only one speaker.  This probably a bad idea.\n",
      "   Search for the word 'bold' in http://kaldi-asr.org/doc/data_prep.html\n",
      "   for more information.\n",
      "utils/validate_data_dir.sh: Successfully validated data-directory dump/raw/org/train\n",
      "2022-04-06T12:28:35 (format_wav_scp.sh:42:main) scripts/audio/format_wav_scp.sh --nj 32 --cmd run.pl --audio-format flac --fs 16000 data/train/wav.scp dump/raw/org/train\n",
      "2022-04-06T12:28:35 (format_wav_scp.sh:110:main) [info]: without segments\n",
      "2022-04-06T12:31:24 (format_wav_scp.sh:142:main) Successfully finished. [elapsed=169s]\n",
      "utils/copy_data_dir.sh: copied data from data/valid to dump/raw/org/valid\n",
      "utils/validate_data_dir.sh: WARNING: you have only one speaker.  This probably a bad idea.\n",
      "   Search for the word 'bold' in http://kaldi-asr.org/doc/data_prep.html\n",
      "   for more information.\n",
      "utils/validate_data_dir.sh: Successfully validated data-directory dump/raw/org/valid\n",
      "2022-04-06T12:31:24 (format_wav_scp.sh:42:main) scripts/audio/format_wav_scp.sh --nj 32 --cmd run.pl --audio-format flac --fs 16000 data/valid/wav.scp dump/raw/org/valid\n",
      "2022-04-06T12:31:24 (format_wav_scp.sh:110:main) [info]: without segments\n",
      "2022-04-06T12:32:23 (format_wav_scp.sh:142:main) Successfully finished. [elapsed=59s]\n",
      "utils/copy_data_dir.sh: copied data from data/test to dump/raw/test\n",
      "utils/validate_data_dir.sh: WARNING: you have only one speaker.  This probably a bad idea.\n",
      "   Search for the word 'bold' in http://kaldi-asr.org/doc/data_prep.html\n",
      "   for more information.\n",
      "utils/validate_data_dir.sh: Successfully validated data-directory dump/raw/test\n",
      "2022-04-06T12:32:23 (format_wav_scp.sh:42:main) scripts/audio/format_wav_scp.sh --nj 32 --cmd run.pl --audio-format flac --fs 16000 data/test/wav.scp dump/raw/test\n",
      "2022-04-06T12:32:23 (format_wav_scp.sh:110:main) [info]: without segments\n",
      "2022-04-06T12:32:54 (format_wav_scp.sh:142:main) Successfully finished. [elapsed=31s]\n",
      "2022-04-06T12:32:54 (tts.sh:1182:main) Skip the uploading stage\n",
      "2022-04-06T12:32:54 (tts.sh:1234:main) Skip the uploading to HuggingFace stage\n",
      "2022-04-06T12:32:54 (tts.sh:1237:main) Successfully finished. [elapsed=260s]\n"
     ]
    }
   ],
   "source": [
    "!./tts.sh \\\n",
    " --stage 2 \\\n",
    " --ngpu 1 \\\n",
    " --train_set train \\\n",
    " --valid_set valid \\\n",
    " --test_sets test \\\n",
    " --stop-stage 2"
   ]
  },
  {
   "cell_type": "markdown",
   "id": "97888ebd",
   "metadata": {},
   "source": [
    "* For a new recipie  modify tts.sh \n",
    "\n",
    "train_set=\"train\"     # Name of training set.\n",
    "valid_set=\"valid\"     # Name of validation set used for monitoring/tuning network training.\n",
    "test_sets=\"test\"     # Names of test sets. Multiple items (e.g., both dev and eval sets) can be specified.\n",
    "\n",
    "look in : lines 105 106 107"
   ]
  },
  {
   "cell_type": "code",
   "execution_count": 91,
   "id": "d1795ea0",
   "metadata": {},
   "outputs": [
    {
     "name": "stdout",
     "output_type": "stream",
     "text": [
      "2022-04-06T12:33:37 (tts.sh:211:main) ./tts.sh --stage 3 --stop-stage 3\n",
      "2022-04-06T12:33:37 (tts.sh:468:main) Stage 3: Remove long/short data: dump/raw/org -> dump/raw\n",
      "train\n",
      "utils/copy_data_dir.sh: copied data from dump/raw/org/train to dump/raw/train\n",
      "utils/validate_data_dir.sh: WARNING: you have only one speaker.  This probably a bad idea.\n",
      "   Search for the word 'bold' in http://kaldi-asr.org/doc/data_prep.html\n",
      "   for more information.\n",
      "utils/validate_data_dir.sh: Successfully validated data-directory dump/raw/train\n",
      "this step was done\n",
      "fix_data_dir.sh: kept all 2149 utterances.\n",
      "fix_data_dir.sh: old files are kept in dump/raw/train/.backup\n",
      "train\n",
      "utils/copy_data_dir.sh: copied data from dump/raw/org/valid to dump/raw/valid\n",
      "utils/validate_data_dir.sh: WARNING: you have only one speaker.  This probably a bad idea.\n",
      "   Search for the word 'bold' in http://kaldi-asr.org/doc/data_prep.html\n",
      "   for more information.\n",
      "utils/validate_data_dir.sh: Successfully validated data-directory dump/raw/valid\n",
      "this step was done\n",
      "fix_data_dir.sh: kept all 573 utterances.\n",
      "fix_data_dir.sh: old files are kept in dump/raw/valid/.backup\n",
      "2022-04-06T12:33:38 (tts.sh:1182:main) Skip the uploading stage\n",
      "2022-04-06T12:33:38 (tts.sh:1234:main) Skip the uploading to HuggingFace stage\n",
      "2022-04-06T12:33:38 (tts.sh:1237:main) Successfully finished. [elapsed=1s]\n"
     ]
    }
   ],
   "source": [
    "!./tts.sh --stage 3 --stop-stage 3"
   ]
  },
  {
   "cell_type": "code",
   "execution_count": 95,
   "id": "953ccfcd",
   "metadata": {},
   "outputs": [
    {
     "name": "stdout",
     "output_type": "stream",
     "text": [
      "2022-04-06T12:58:21 (tts.sh:211:main) ./tts.sh --stage 4 --stop-stage 4 --srctexts data/train/text\n",
      "2022-04-06T12:58:21 (tts.sh:525:main) Stage 4: Generate token_list from data/train/text\n",
      "[nltk_data] Downloading package averaged_perceptron_tagger to\n",
      "[nltk_data]     /home/ec2-user/nltk_data...\n",
      "[nltk_data]   Unzipping taggers/averaged_perceptron_tagger.zip.\n",
      "[nltk_data] Downloading package cmudict to /home/ec2-user/nltk_data...\n",
      "[nltk_data]   Unzipping corpora/cmudict.zip.\n",
      "/home/ec2-user/anaconda3/envs/espnet/bin/python3 /home/ec2-user/SageMaker/espnet/espnet2/bin/tokenize_text.py --token_type phn -f 2- --input dump/raw/srctexts --output dump/token_list/phn_tacotron_g2p_en/tokens.txt --non_linguistic_symbols none --cleaner tacotron --g2p g2p_en --write_vocabulary true --add_symbol '<blank>:0' --add_symbol '<unk>:1' --add_symbol '<sos/eos>:-1'\n",
      "2022-04-06 12:58:51,615 (tokenize_text:174) INFO: OOV rate = 0.0 %\n",
      "2022-04-06T12:58:51 (tts.sh:1182:main) Skip the uploading stage\n",
      "2022-04-06T12:58:51 (tts.sh:1234:main) Skip the uploading to HuggingFace stage\n",
      "2022-04-06T12:58:51 (tts.sh:1237:main) Successfully finished. [elapsed=30s]\n"
     ]
    }
   ],
   "source": [
    "!./tts.sh --stage 4 --stop-stage 4 --srctexts \"data/train/text\""
   ]
  },
  {
   "cell_type": "code",
   "execution_count": 96,
   "id": "9c6d68bd",
   "metadata": {},
   "outputs": [
    {
     "name": "stdout",
     "output_type": "stream",
     "text": [
      "2022-04-06T13:04:18 (tts.sh:211:main) ./tts.sh --stage 5 --stop-stage 5\n",
      "2022-04-06T13:04:19 (tts.sh:557:main) Stage 5: TTS collect stats: train_set=dump/raw/train, valid_set=dump/raw/valid\n",
      "2022-04-06T13:04:19 (tts.sh:644:main) Generate 'exp/tts_stats_raw_phn_tacotron_g2p_en/run.sh'. You can resume the process from stage 5 using this script\n",
      "2022-04-06T13:04:19 (tts.sh:648:main) TTS collect_stats started... log: 'exp/tts_stats_raw_phn_tacotron_g2p_en/logdir/stats.*.log'\n",
      "/home/ec2-user/anaconda3/envs/espnet/bin/python3 /home/ec2-user/SageMaker/espnet/espnet2/bin/aggregate_stats_dirs.py --input_dir exp/tts_stats_raw_phn_tacotron_g2p_en/logdir/stats.1 --input_dir exp/tts_stats_raw_phn_tacotron_g2p_en/logdir/stats.2 --input_dir exp/tts_stats_raw_phn_tacotron_g2p_en/logdir/stats.3 --input_dir exp/tts_stats_raw_phn_tacotron_g2p_en/logdir/stats.4 --input_dir exp/tts_stats_raw_phn_tacotron_g2p_en/logdir/stats.5 --input_dir exp/tts_stats_raw_phn_tacotron_g2p_en/logdir/stats.6 --input_dir exp/tts_stats_raw_phn_tacotron_g2p_en/logdir/stats.7 --input_dir exp/tts_stats_raw_phn_tacotron_g2p_en/logdir/stats.8 --input_dir exp/tts_stats_raw_phn_tacotron_g2p_en/logdir/stats.9 --input_dir exp/tts_stats_raw_phn_tacotron_g2p_en/logdir/stats.10 --input_dir exp/tts_stats_raw_phn_tacotron_g2p_en/logdir/stats.11 --input_dir exp/tts_stats_raw_phn_tacotron_g2p_en/logdir/stats.12 --input_dir exp/tts_stats_raw_phn_tacotron_g2p_en/logdir/stats.13 --input_dir exp/tts_stats_raw_phn_tacotron_g2p_en/logdir/stats.14 --input_dir exp/tts_stats_raw_phn_tacotron_g2p_en/logdir/stats.15 --input_dir exp/tts_stats_raw_phn_tacotron_g2p_en/logdir/stats.16 --input_dir exp/tts_stats_raw_phn_tacotron_g2p_en/logdir/stats.17 --input_dir exp/tts_stats_raw_phn_tacotron_g2p_en/logdir/stats.18 --input_dir exp/tts_stats_raw_phn_tacotron_g2p_en/logdir/stats.19 --input_dir exp/tts_stats_raw_phn_tacotron_g2p_en/logdir/stats.20 --input_dir exp/tts_stats_raw_phn_tacotron_g2p_en/logdir/stats.21 --input_dir exp/tts_stats_raw_phn_tacotron_g2p_en/logdir/stats.22 --input_dir exp/tts_stats_raw_phn_tacotron_g2p_en/logdir/stats.23 --input_dir exp/tts_stats_raw_phn_tacotron_g2p_en/logdir/stats.24 --input_dir exp/tts_stats_raw_phn_tacotron_g2p_en/logdir/stats.25 --input_dir exp/tts_stats_raw_phn_tacotron_g2p_en/logdir/stats.26 --input_dir exp/tts_stats_raw_phn_tacotron_g2p_en/logdir/stats.27 --input_dir exp/tts_stats_raw_phn_tacotron_g2p_en/logdir/stats.28 --input_dir exp/tts_stats_raw_phn_tacotron_g2p_en/logdir/stats.29 --input_dir exp/tts_stats_raw_phn_tacotron_g2p_en/logdir/stats.30 --input_dir exp/tts_stats_raw_phn_tacotron_g2p_en/logdir/stats.31 --input_dir exp/tts_stats_raw_phn_tacotron_g2p_en/logdir/stats.32 --output_dir exp/tts_stats_raw_phn_tacotron_g2p_en\n",
      "2022-04-06T13:05:42 (tts.sh:1182:main) Skip the uploading stage\n",
      "2022-04-06T13:05:42 (tts.sh:1234:main) Skip the uploading to HuggingFace stage\n",
      "2022-04-06T13:05:42 (tts.sh:1237:main) Successfully finished. [elapsed=84s]\n"
     ]
    }
   ],
   "source": [
    "!./tts.sh --stage 5 --stop-stage 5"
   ]
  },
  {
   "cell_type": "code",
   "execution_count": 97,
   "id": "4c1b5b62",
   "metadata": {},
   "outputs": [
    {
     "name": "stdout",
     "output_type": "stream",
     "text": [
      "2022-04-06T13:12:10 (tts.sh:211:main) ./tts.sh --stage 6 --stop-stage 6\n",
      "2022-04-06T13:12:10 (tts.sh:693:main) Stage 6: TTS Training: train_set=dump/raw/train, valid_set=dump/raw/valid\n",
      "2022-04-06T13:12:10 (tts.sh:873:main) Generate 'exp/tts_train_raw_phn_tacotron_g2p_en/run.sh'. You can resume the process from stage 6 using this script\n",
      "2022-04-06T13:12:10 (tts.sh:878:main) TTS training started... log: 'exp/tts_train_raw_phn_tacotron_g2p_en/train.log'\n",
      "2022-04-06 13:12:10,686 (launch:95) INFO: /home/ec2-user/anaconda3/envs/espnet/bin/python3 /home/ec2-user/SageMaker/espnet/espnet2/bin/launch.py --cmd 'run.pl --name exp/tts_train_raw_phn_tacotron_g2p_en/train.log' --log exp/tts_train_raw_phn_tacotron_g2p_en/train.log --ngpu 1 --num_nodes 1 --init_file_prefix exp/tts_train_raw_phn_tacotron_g2p_en/.dist_init_ --multiprocessing_distributed true -- python3 -m espnet2.bin.tts_train --use_preprocessor true --token_type phn --token_list dump/token_list/phn_tacotron_g2p_en/tokens.txt --non_linguistic_symbols none --cleaner tacotron --g2p g2p_en --normalize global_mvn --resume true --fold_length 150 --fold_length 204800 --output_dir exp/tts_train_raw_phn_tacotron_g2p_en --feats_extract fbank --feats_extract_conf n_fft=1024 --feats_extract_conf hop_length=256 --feats_extract_conf win_length=null --feats_extract_conf fs=16000 --feats_extract_conf fmin=80 --feats_extract_conf fmax=7600 --feats_extract_conf n_mels=80 --train_data_path_and_name_and_type dump/raw/train/text,text,text --train_data_path_and_name_and_type dump/raw/train/wav.scp,speech,sound --train_shape_file exp/tts_stats_raw_phn_tacotron_g2p_en/train/text_shape.phn --train_shape_file exp/tts_stats_raw_phn_tacotron_g2p_en/train/speech_shape --valid_data_path_and_name_and_type dump/raw/valid/text,text,text --valid_data_path_and_name_and_type dump/raw/valid/wav.scp,speech,sound --valid_shape_file exp/tts_stats_raw_phn_tacotron_g2p_en/valid/text_shape.phn --valid_shape_file exp/tts_stats_raw_phn_tacotron_g2p_en/valid/speech_shape --normalize_conf stats_file=exp/tts_stats_raw_phn_tacotron_g2p_en/train/feats_stats.npz\n",
      "2022-04-06 13:12:10,709 (launch:349) INFO: log file: exp/tts_train_raw_phn_tacotron_g2p_en/train.log\n",
      "2022-04-06T15:14:42 (tts.sh:1182:main) Skip the uploading stage\n",
      "2022-04-06T15:14:42 (tts.sh:1234:main) Skip the uploading to HuggingFace stage\n",
      "2022-04-06T15:14:42 (tts.sh:1237:main) Successfully finished. [elapsed=7352s]\n"
     ]
    }
   ],
   "source": [
    "!./tts.sh --stage 6 --stop-stage 6"
   ]
  },
  {
   "cell_type": "code",
   "execution_count": 98,
   "id": "1f7617d0",
   "metadata": {},
   "outputs": [
    {
     "name": "stdout",
     "output_type": "stream",
     "text": [
      "2022-04-06T18:38:00 (tts.sh:211:main) ./tts.sh --stage 7 --stop-stage 7\n",
      "2022-04-06T18:38:00 (tts.sh:935:main) Stage 7: Decoding: training_dir=exp/tts_train_raw_phn_tacotron_g2p_en\n",
      "2022-04-06T18:38:00 (tts.sh:958:main) Generate 'exp/tts_train_raw_phn_tacotron_g2p_en/inference_train.loss.ave/run.sh'. You can resume the process from stage 7 using this script\n",
      "2022-04-06T18:38:00 (tts.sh:1012:main) Decoding started... log: 'exp/tts_train_raw_phn_tacotron_g2p_en/inference_train.loss.ave/test/log/tts_inference.*.log'\n",
      "2022-04-06T18:41:52 (tts.sh:1182:main) Skip the uploading stage\n",
      "2022-04-06T18:41:52 (tts.sh:1234:main) Skip the uploading to HuggingFace stage\n",
      "2022-04-06T18:41:52 (tts.sh:1237:main) Successfully finished. [elapsed=232s]\n"
     ]
    }
   ],
   "source": [
    "!./tts.sh --stage 7 --stop-stage 7"
   ]
  },
  {
   "cell_type": "code",
   "execution_count": null,
   "id": "a9527b5e",
   "metadata": {},
   "outputs": [],
   "source": []
  }
 ],
 "metadata": {
  "kernelspec": {
   "display_name": "conda_t2s",
   "language": "python",
   "name": "conda_t2s"
  },
  "language_info": {
   "codemirror_mode": {
    "name": "ipython",
    "version": 3
   },
   "file_extension": ".py",
   "mimetype": "text/x-python",
   "name": "python",
   "nbconvert_exporter": "python",
   "pygments_lexer": "ipython3",
   "version": "3.8.12"
  }
 },
 "nbformat": 4,
 "nbformat_minor": 5
}
