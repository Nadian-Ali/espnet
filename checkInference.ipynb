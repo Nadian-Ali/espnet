{
 "cells": [
  {
   "cell_type": "code",
   "execution_count": 2,
   "id": "ca53ea42",
   "metadata": {},
   "outputs": [
    {
     "name": "stdout",
     "output_type": "stream",
     "text": [
      "/home/ec2-user/SageMaker\n"
     ]
    }
   ],
   "source": [
    "%cd .."
   ]
  },
  {
   "cell_type": "code",
   "execution_count": null,
   "id": "f4fccedf",
   "metadata": {},
   "outputs": [],
   "source": [
    "!pip install -q espnet==0.10.6"
   ]
  },
  {
   "cell_type": "code",
   "execution_count": 3,
   "id": "abbc92c4",
   "metadata": {},
   "outputs": [
    {
     "name": "stdout",
     "output_type": "stream",
     "text": [
      "Collecting pyopenjtalk==0.2\n",
      "  Downloading pyopenjtalk-0.2.0.tar.gz (1.5 MB)\n",
      "\u001b[2K     \u001b[90m━━━━━━━━━━━━━━━━━━━━━━━━━━━━━━━━━━━━━━━━\u001b[0m \u001b[32m1.5/1.5 MB\u001b[0m \u001b[31m32.2 MB/s\u001b[0m eta \u001b[36m0:00:00\u001b[0m00:01\u001b[0m\n",
      "\u001b[?25h  Installing build dependencies ... \u001b[?25ldone\n",
      "\u001b[?25h  Getting requirements to build wheel ... \u001b[?25ldone\n",
      "\u001b[?25h  Preparing metadata (pyproject.toml) ... \u001b[?25ldone\n",
      "\u001b[?25hRequirement already satisfied: numpy>=1.8.0 in /home/ec2-user/anaconda3/envs/t2s/lib/python3.8/site-packages (from pyopenjtalk==0.2) (1.21.5)\n",
      "Collecting cython>=0.21.0\n",
      "  Using cached Cython-0.29.28-cp38-cp38-manylinux_2_17_x86_64.manylinux2014_x86_64.manylinux_2_24_x86_64.whl (1.9 MB)\n",
      "Requirement already satisfied: six in /home/ec2-user/anaconda3/envs/t2s/lib/python3.8/site-packages (from pyopenjtalk==0.2) (1.16.0)\n",
      "Collecting tqdm\n",
      "  Downloading tqdm-4.63.0-py2.py3-none-any.whl (76 kB)\n",
      "\u001b[2K     \u001b[90m━━━━━━━━━━━━━━━━━━━━━━━━━━━━━━━━━━━━━━━━\u001b[0m \u001b[32m76.6/76.6 KB\u001b[0m \u001b[31m15.9 MB/s\u001b[0m eta \u001b[36m0:00:00\u001b[0m\n",
      "\u001b[?25hBuilding wheels for collected packages: pyopenjtalk\n",
      "  Building wheel for pyopenjtalk (pyproject.toml) ... \u001b[?25ldone\n",
      "\u001b[?25h  Created wheel for pyopenjtalk: filename=pyopenjtalk-0.2.0-cp38-cp38-linux_x86_64.whl size=4198163 sha256=3f06c566d2e9b36f1b05d8b025a67391d13e06c12c13f7da4d075377cc42b692\n",
      "  Stored in directory: /home/ec2-user/.cache/pip/wheels/a0/5e/82/003675502cd4c5d0526f3de17d7f8bc49178a3ff18ecd254d1\n",
      "Successfully built pyopenjtalk\n",
      "Installing collected packages: tqdm, cython, pyopenjtalk\n",
      "Successfully installed cython-0.29.28 pyopenjtalk-0.2.0 tqdm-4.63.0\n"
     ]
    }
   ],
   "source": [
    "!pip install pyopenjtalk==0.2 "
   ]
  },
  {
   "cell_type": "code",
   "execution_count": 4,
   "id": "96f25ecb",
   "metadata": {},
   "outputs": [
    {
     "name": "stdout",
     "output_type": "stream",
     "text": [
      "Collecting pypinyin==0.44.0\n",
      "  Using cached pypinyin-0.44.0-py2.py3-none-any.whl (1.3 MB)\n",
      "Installing collected packages: pypinyin\n",
      "Successfully installed pypinyin-0.44.0\n"
     ]
    }
   ],
   "source": [
    "!pip install pypinyin==0.44.0"
   ]
  },
  {
   "cell_type": "code",
   "execution_count": 5,
   "id": "d57c3888",
   "metadata": {
    "collapsed": true,
    "jupyter": {
     "outputs_hidden": true
    }
   },
   "outputs": [
    {
     "name": "stdout",
     "output_type": "stream",
     "text": [
      "Collecting parallel_wavegan==0.5.4\n",
      "  Downloading parallel_wavegan-0.5.4.tar.gz (68 kB)\n",
      "\u001b[2K     \u001b[90m━━━━━━━━━━━━━━━━━━━━━━━━━━━━━━━━━━━━━━━━\u001b[0m \u001b[32m69.0/69.0 KB\u001b[0m \u001b[31m3.6 MB/s\u001b[0m eta \u001b[36m0:00:00\u001b[0m\n",
      "\u001b[?25h  Preparing metadata (setup.py) ... \u001b[?25ldone\n",
      "\u001b[?25hCollecting torch>=1.4\n",
      "  Downloading torch-1.10.2-cp38-cp38-manylinux1_x86_64.whl (881.9 MB)\n",
      "\u001b[2K     \u001b[90m━━━━━━━━━━━━━━━━━━━━━━━━━━━━━━━━━━━━━━━\u001b[0m \u001b[32m881.9/881.9 MB\u001b[0m \u001b[31m1.0 MB/s\u001b[0m eta \u001b[36m0:00:00\u001b[0m00:01\u001b[0m00:01\u001b[0m\n",
      "\u001b[?25hRequirement already satisfied: setuptools>=38.5.1 in /home/ec2-user/anaconda3/envs/t2s/lib/python3.8/site-packages (from parallel_wavegan==0.5.4) (60.9.3)\n",
      "Requirement already satisfied: librosa>=0.8.0 in /home/ec2-user/anaconda3/envs/t2s/lib/python3.8/site-packages (from parallel_wavegan==0.5.4) (0.9.1)\n",
      "Requirement already satisfied: soundfile>=0.10.2 in /home/ec2-user/anaconda3/envs/t2s/lib/python3.8/site-packages (from parallel_wavegan==0.5.4) (0.10.3.post1)\n",
      "Collecting tensorboardX>=1.8\n",
      "  Downloading tensorboardX-2.5-py2.py3-none-any.whl (125 kB)\n",
      "\u001b[2K     \u001b[90m━━━━━━━━━━━━━━━━━━━━━━━━━━━━━━━━━━━━━━\u001b[0m \u001b[32m125.3/125.3 KB\u001b[0m \u001b[31m17.6 MB/s\u001b[0m eta \u001b[36m0:00:00\u001b[0m\n",
      "\u001b[?25hRequirement already satisfied: matplotlib>=3.1.0 in /home/ec2-user/anaconda3/envs/t2s/lib/python3.8/site-packages (from parallel_wavegan==0.5.4) (3.5.1)\n",
      "Collecting PyYAML>=3.12\n",
      "  Using cached PyYAML-6.0-cp38-cp38-manylinux_2_5_x86_64.manylinux1_x86_64.manylinux_2_12_x86_64.manylinux2010_x86_64.whl (701 kB)\n",
      "Requirement already satisfied: tqdm>=4.26.1 in /home/ec2-user/anaconda3/envs/t2s/lib/python3.8/site-packages (from parallel_wavegan==0.5.4) (4.63.0)\n",
      "Collecting kaldiio>=2.14.1\n",
      "  Using cached kaldiio-2.17.2-py3-none-any.whl\n",
      "Collecting h5py>=2.9.0\n",
      "  Using cached h5py-3.6.0-cp38-cp38-manylinux_2_12_x86_64.manylinux2010_x86_64.whl (4.5 MB)\n",
      "Collecting yq>=2.10.0\n",
      "  Downloading yq-2.14.0-py3-none-any.whl (16 kB)\n",
      "Collecting gdown\n",
      "  Using cached gdown-4.4.0-py3-none-any.whl\n",
      "Collecting filelock\n",
      "  Using cached filelock-3.6.0-py3-none-any.whl (10.0 kB)\n",
      "Requirement already satisfied: numpy>=1.14.5 in /home/ec2-user/anaconda3/envs/t2s/lib/python3.8/site-packages (from h5py>=2.9.0->parallel_wavegan==0.5.4) (1.21.5)\n",
      "Requirement already satisfied: scipy>=1.2.0 in /home/ec2-user/anaconda3/envs/t2s/lib/python3.8/site-packages (from librosa>=0.8.0->parallel_wavegan==0.5.4) (1.8.0)\n",
      "Requirement already satisfied: resampy>=0.2.2 in /home/ec2-user/anaconda3/envs/t2s/lib/python3.8/site-packages (from librosa>=0.8.0->parallel_wavegan==0.5.4) (0.2.2)\n",
      "Requirement already satisfied: audioread>=2.1.5 in /home/ec2-user/anaconda3/envs/t2s/lib/python3.8/site-packages (from librosa>=0.8.0->parallel_wavegan==0.5.4) (2.1.9)\n",
      "Requirement already satisfied: numba>=0.45.1 in /home/ec2-user/anaconda3/envs/t2s/lib/python3.8/site-packages (from librosa>=0.8.0->parallel_wavegan==0.5.4) (0.55.1)\n",
      "Requirement already satisfied: joblib>=0.14 in /home/ec2-user/anaconda3/envs/t2s/lib/python3.8/site-packages (from librosa>=0.8.0->parallel_wavegan==0.5.4) (1.1.0)\n",
      "Requirement already satisfied: decorator>=4.0.10 in /home/ec2-user/anaconda3/envs/t2s/lib/python3.8/site-packages (from librosa>=0.8.0->parallel_wavegan==0.5.4) (5.1.1)\n",
      "Requirement already satisfied: packaging>=20.0 in /home/ec2-user/anaconda3/envs/t2s/lib/python3.8/site-packages (from librosa>=0.8.0->parallel_wavegan==0.5.4) (21.3)\n",
      "Requirement already satisfied: pooch>=1.0 in /home/ec2-user/anaconda3/envs/t2s/lib/python3.8/site-packages (from librosa>=0.8.0->parallel_wavegan==0.5.4) (1.6.0)\n",
      "Requirement already satisfied: scikit-learn>=0.19.1 in /home/ec2-user/anaconda3/envs/t2s/lib/python3.8/site-packages (from librosa>=0.8.0->parallel_wavegan==0.5.4) (1.0.2)\n",
      "Requirement already satisfied: pillow>=6.2.0 in /home/ec2-user/anaconda3/envs/t2s/lib/python3.8/site-packages (from matplotlib>=3.1.0->parallel_wavegan==0.5.4) (9.0.1)\n",
      "Requirement already satisfied: pyparsing>=2.2.1 in /home/ec2-user/anaconda3/envs/t2s/lib/python3.8/site-packages (from matplotlib>=3.1.0->parallel_wavegan==0.5.4) (3.0.7)\n",
      "Requirement already satisfied: kiwisolver>=1.0.1 in /home/ec2-user/anaconda3/envs/t2s/lib/python3.8/site-packages (from matplotlib>=3.1.0->parallel_wavegan==0.5.4) (1.3.2)\n",
      "Requirement already satisfied: python-dateutil>=2.7 in /home/ec2-user/anaconda3/envs/t2s/lib/python3.8/site-packages (from matplotlib>=3.1.0->parallel_wavegan==0.5.4) (2.8.2)\n",
      "Requirement already satisfied: fonttools>=4.22.0 in /home/ec2-user/anaconda3/envs/t2s/lib/python3.8/site-packages (from matplotlib>=3.1.0->parallel_wavegan==0.5.4) (4.29.1)\n",
      "Requirement already satisfied: cycler>=0.10 in /home/ec2-user/anaconda3/envs/t2s/lib/python3.8/site-packages (from matplotlib>=3.1.0->parallel_wavegan==0.5.4) (0.11.0)\n",
      "Requirement already satisfied: cffi>=1.0 in /home/ec2-user/anaconda3/envs/t2s/lib/python3.8/site-packages (from soundfile>=0.10.2->parallel_wavegan==0.5.4) (1.15.0)\n",
      "Requirement already satisfied: six in /home/ec2-user/anaconda3/envs/t2s/lib/python3.8/site-packages (from tensorboardX>=1.8->parallel_wavegan==0.5.4) (1.16.0)\n",
      "Collecting protobuf>=3.8.0\n",
      "  Using cached protobuf-3.19.4-cp38-cp38-manylinux_2_17_x86_64.manylinux2014_x86_64.whl (1.1 MB)\n",
      "Collecting typing-extensions\n",
      "  Downloading typing_extensions-4.1.1-py3-none-any.whl (26 kB)\n",
      "Collecting argcomplete>=1.8.1\n",
      "  Downloading argcomplete-2.0.0-py2.py3-none-any.whl (37 kB)\n",
      "Collecting toml>=0.10.0\n",
      "  Downloading toml-0.10.2-py2.py3-none-any.whl (16 kB)\n",
      "Collecting xmltodict>=0.11.0\n",
      "  Downloading xmltodict-0.12.0-py2.py3-none-any.whl (9.2 kB)\n",
      "Collecting beautifulsoup4\n",
      "  Using cached beautifulsoup4-4.10.0-py3-none-any.whl (97 kB)\n",
      "Requirement already satisfied: requests[socks] in /home/ec2-user/anaconda3/envs/t2s/lib/python3.8/site-packages (from gdown->parallel_wavegan==0.5.4) (2.27.1)\n",
      "Requirement already satisfied: pycparser in /home/ec2-user/anaconda3/envs/t2s/lib/python3.8/site-packages (from cffi>=1.0->soundfile>=0.10.2->parallel_wavegan==0.5.4) (2.21)\n",
      "Requirement already satisfied: llvmlite<0.39,>=0.38.0rc1 in /home/ec2-user/anaconda3/envs/t2s/lib/python3.8/site-packages (from numba>=0.45.1->librosa>=0.8.0->parallel_wavegan==0.5.4) (0.38.0)\n",
      "Requirement already satisfied: appdirs>=1.3.0 in /home/ec2-user/anaconda3/envs/t2s/lib/python3.8/site-packages (from pooch>=1.0->librosa>=0.8.0->parallel_wavegan==0.5.4) (1.4.4)\n",
      "Requirement already satisfied: threadpoolctl>=2.0.0 in /home/ec2-user/anaconda3/envs/t2s/lib/python3.8/site-packages (from scikit-learn>=0.19.1->librosa>=0.8.0->parallel_wavegan==0.5.4) (3.1.0)\n",
      "Collecting soupsieve>1.2\n",
      "  Using cached soupsieve-2.3.1-py3-none-any.whl (37 kB)\n",
      "Requirement already satisfied: idna<4,>=2.5 in /home/ec2-user/anaconda3/envs/t2s/lib/python3.8/site-packages (from requests[socks]->gdown->parallel_wavegan==0.5.4) (3.3)\n",
      "Requirement already satisfied: certifi>=2017.4.17 in /home/ec2-user/anaconda3/envs/t2s/lib/python3.8/site-packages (from requests[socks]->gdown->parallel_wavegan==0.5.4) (2021.10.8)\n",
      "Requirement already satisfied: charset-normalizer~=2.0.0 in /home/ec2-user/anaconda3/envs/t2s/lib/python3.8/site-packages (from requests[socks]->gdown->parallel_wavegan==0.5.4) (2.0.12)\n",
      "Requirement already satisfied: urllib3<1.27,>=1.21.1 in /home/ec2-user/anaconda3/envs/t2s/lib/python3.8/site-packages (from requests[socks]->gdown->parallel_wavegan==0.5.4) (1.26.8)\n",
      "Requirement already satisfied: PySocks!=1.5.7,>=1.5.6 in /home/ec2-user/anaconda3/envs/t2s/lib/python3.8/site-packages (from requests[socks]->gdown->parallel_wavegan==0.5.4) (1.7.1)\n",
      "Building wheels for collected packages: parallel_wavegan\n",
      "  Building wheel for parallel_wavegan (setup.py) ... \u001b[?25ldone\n",
      "\u001b[?25h  Created wheel for parallel_wavegan: filename=parallel_wavegan-0.5.4-py3-none-any.whl size=71009 sha256=43654af81225eec8487cd880a9b2abcf85b105035dc73eece65d6565b736c6e2\n",
      "  Stored in directory: /home/ec2-user/.cache/pip/wheels/82/78/b2/15d1769bd68916fe1a1a3bbe03368cead61e411b960f3a7130\n",
      "Successfully built parallel_wavegan\n",
      "Installing collected packages: xmltodict, typing-extensions, toml, soupsieve, PyYAML, protobuf, kaldiio, h5py, filelock, argcomplete, yq, torch, tensorboardX, beautifulsoup4, gdown, parallel_wavegan\n",
      "Successfully installed PyYAML-6.0 argcomplete-2.0.0 beautifulsoup4-4.10.0 filelock-3.6.0 gdown-4.4.0 h5py-3.6.0 kaldiio-2.17.2 parallel_wavegan-0.5.4 protobuf-3.19.4 soupsieve-2.3.1 tensorboardX-2.5 toml-0.10.2 torch-1.10.2 typing-extensions-4.1.1 xmltodict-0.12.0 yq-2.14.0\n"
     ]
    }
   ],
   "source": [
    "!pip install parallel_wavegan==0.5.4"
   ]
  },
  {
   "cell_type": "code",
   "execution_count": 6,
   "id": "8bc5f71f",
   "metadata": {},
   "outputs": [
    {
     "name": "stdout",
     "output_type": "stream",
     "text": [
      "Collecting espnet_model_zoo\n",
      "  Using cached espnet_model_zoo-0.1.7-py3-none-any.whl (19 kB)\n",
      "Requirement already satisfied: filelock in /home/ec2-user/anaconda3/envs/t2s/lib/python3.8/site-packages (from espnet_model_zoo) (3.6.0)\n",
      "Collecting espnet\n",
      "  Downloading espnet-0.10.6-py3-none-any.whl (962 kB)\n",
      "\u001b[2K     \u001b[90m━━━━━━━━━━━━━━━━━━━━━━━━━━━━━━━━━━━━━━━\u001b[0m \u001b[32m962.3/962.3 KB\u001b[0m \u001b[31m9.8 MB/s\u001b[0m eta \u001b[36m0:00:00\u001b[0m00:01\u001b[0m00:01\u001b[0m\n",
      "\u001b[?25hRequirement already satisfied: tqdm in /home/ec2-user/anaconda3/envs/t2s/lib/python3.8/site-packages (from espnet_model_zoo) (4.63.0)\n",
      "Requirement already satisfied: requests in /home/ec2-user/anaconda3/envs/t2s/lib/python3.8/site-packages (from espnet_model_zoo) (2.27.1)\n",
      "Collecting pandas\n",
      "  Using cached pandas-1.4.1-cp38-cp38-manylinux_2_17_x86_64.manylinux2014_x86_64.whl (11.7 MB)\n",
      "Requirement already satisfied: numpy in /home/ec2-user/anaconda3/envs/t2s/lib/python3.8/site-packages (from espnet_model_zoo) (1.21.5)\n",
      "Collecting huggingface-hub\n",
      "  Using cached huggingface_hub-0.4.0-py3-none-any.whl (67 kB)\n",
      "Collecting pyworld>=0.2.10\n",
      "  Using cached pyworld-0.3.0-cp38-cp38-linux_x86_64.whl\n",
      "Collecting configargparse>=1.2.1\n",
      "  Using cached ConfigArgParse-1.5.3-py3-none-any.whl (20 kB)\n",
      "Requirement already satisfied: kaldiio>=2.17.0 in /home/ec2-user/anaconda3/envs/t2s/lib/python3.8/site-packages (from espnet->espnet_model_zoo) (2.17.2)\n",
      "Collecting ctc-segmentation<1.8,>=1.6.6\n",
      "  Using cached ctc_segmentation-1.7.1-cp38-cp38-linux_x86_64.whl\n",
      "Collecting typeguard>=2.7.0\n",
      "  Using cached typeguard-2.13.3-py3-none-any.whl (17 kB)\n",
      "Requirement already satisfied: setuptools>=38.5.1 in /home/ec2-user/anaconda3/envs/t2s/lib/python3.8/site-packages (from espnet->espnet_model_zoo) (60.9.3)\n",
      "Collecting sentencepiece\n",
      "  Using cached sentencepiece-0.1.96-cp38-cp38-manylinux_2_17_x86_64.manylinux2014_x86_64.whl (1.2 MB)\n",
      "Requirement already satisfied: h5py>=2.10.0 in /home/ec2-user/anaconda3/envs/t2s/lib/python3.8/site-packages (from espnet->espnet_model_zoo) (3.6.0)\n",
      "Requirement already satisfied: pypinyin<=0.44.0 in /home/ec2-user/anaconda3/envs/t2s/lib/python3.8/site-packages (from espnet->espnet_model_zoo) (0.44.0)\n",
      "Requirement already satisfied: PyYAML>=5.1.2 in /home/ec2-user/anaconda3/envs/t2s/lib/python3.8/site-packages (from espnet->espnet_model_zoo) (6.0)\n",
      "Collecting jamo==0.4.1\n",
      "  Using cached jamo-0.4.1-py3-none-any.whl (9.5 kB)\n",
      "Requirement already satisfied: soundfile>=0.10.2 in /home/ec2-user/anaconda3/envs/t2s/lib/python3.8/site-packages (from espnet->espnet_model_zoo) (0.10.3.post1)\n",
      "Collecting torch-complex\n",
      "  Using cached torch_complex-0.4.3-py3-none-any.whl (9.1 kB)\n",
      "Requirement already satisfied: librosa>=0.8.0 in /home/ec2-user/anaconda3/envs/t2s/lib/python3.8/site-packages (from espnet->espnet_model_zoo) (0.9.1)\n",
      "Collecting humanfriendly\n",
      "  Using cached humanfriendly-10.0-py2.py3-none-any.whl (86 kB)\n",
      "Collecting espnet-tts-frontend\n",
      "  Using cached espnet_tts_frontend-0.0.3-py3-none-any.whl (11 kB)\n",
      "Requirement already satisfied: torch>=1.3.0 in /home/ec2-user/anaconda3/envs/t2s/lib/python3.8/site-packages (from espnet->espnet_model_zoo) (1.10.2)\n",
      "Requirement already satisfied: scipy>=1.4.1 in /home/ec2-user/anaconda3/envs/t2s/lib/python3.8/site-packages (from espnet->espnet_model_zoo) (1.8.0)\n",
      "Collecting ci-sdr\n",
      "  Using cached ci_sdr-0.0.0-py3-none-any.whl\n",
      "Collecting pytorch-wpe\n",
      "  Using cached pytorch_wpe-0.0.1-py3-none-any.whl (8.1 kB)\n",
      "Collecting nltk>=3.4.5\n",
      "  Using cached nltk-3.7-py3-none-any.whl (1.5 MB)\n",
      "Requirement already satisfied: typing-extensions>=3.7.4.3 in /home/ec2-user/anaconda3/envs/t2s/lib/python3.8/site-packages (from huggingface-hub->espnet_model_zoo) (4.1.1)\n",
      "Requirement already satisfied: packaging>=20.9 in /home/ec2-user/anaconda3/envs/t2s/lib/python3.8/site-packages (from huggingface-hub->espnet_model_zoo) (21.3)\n",
      "Collecting pytz>=2020.1\n",
      "  Using cached pytz-2021.3-py2.py3-none-any.whl (503 kB)\n",
      "Requirement already satisfied: python-dateutil>=2.8.1 in /home/ec2-user/anaconda3/envs/t2s/lib/python3.8/site-packages (from pandas->espnet_model_zoo) (2.8.2)\n",
      "Requirement already satisfied: urllib3<1.27,>=1.21.1 in /home/ec2-user/anaconda3/envs/t2s/lib/python3.8/site-packages (from requests->espnet_model_zoo) (1.26.8)\n",
      "Requirement already satisfied: charset-normalizer~=2.0.0 in /home/ec2-user/anaconda3/envs/t2s/lib/python3.8/site-packages (from requests->espnet_model_zoo) (2.0.12)\n",
      "Requirement already satisfied: certifi>=2017.4.17 in /home/ec2-user/anaconda3/envs/t2s/lib/python3.8/site-packages (from requests->espnet_model_zoo) (2021.10.8)\n",
      "Requirement already satisfied: idna<4,>=2.5 in /home/ec2-user/anaconda3/envs/t2s/lib/python3.8/site-packages (from requests->espnet_model_zoo) (3.3)\n",
      "Requirement already satisfied: Cython in /home/ec2-user/anaconda3/envs/t2s/lib/python3.8/site-packages (from ctc-segmentation<1.8,>=1.6.6->espnet->espnet_model_zoo) (0.29.28)\n",
      "Requirement already satisfied: scikit-learn>=0.19.1 in /home/ec2-user/anaconda3/envs/t2s/lib/python3.8/site-packages (from librosa>=0.8.0->espnet->espnet_model_zoo) (1.0.2)\n",
      "Requirement already satisfied: joblib>=0.14 in /home/ec2-user/anaconda3/envs/t2s/lib/python3.8/site-packages (from librosa>=0.8.0->espnet->espnet_model_zoo) (1.1.0)\n",
      "Requirement already satisfied: decorator>=4.0.10 in /home/ec2-user/anaconda3/envs/t2s/lib/python3.8/site-packages (from librosa>=0.8.0->espnet->espnet_model_zoo) (5.1.1)\n",
      "Requirement already satisfied: numba>=0.45.1 in /home/ec2-user/anaconda3/envs/t2s/lib/python3.8/site-packages (from librosa>=0.8.0->espnet->espnet_model_zoo) (0.55.1)\n",
      "Requirement already satisfied: resampy>=0.2.2 in /home/ec2-user/anaconda3/envs/t2s/lib/python3.8/site-packages (from librosa>=0.8.0->espnet->espnet_model_zoo) (0.2.2)\n",
      "Requirement already satisfied: pooch>=1.0 in /home/ec2-user/anaconda3/envs/t2s/lib/python3.8/site-packages (from librosa>=0.8.0->espnet->espnet_model_zoo) (1.6.0)\n",
      "Requirement already satisfied: audioread>=2.1.5 in /home/ec2-user/anaconda3/envs/t2s/lib/python3.8/site-packages (from librosa>=0.8.0->espnet->espnet_model_zoo) (2.1.9)\n",
      "Collecting click\n",
      "  Using cached click-8.0.4-py3-none-any.whl (97 kB)\n",
      "Collecting regex>=2021.8.3\n",
      "  Using cached regex-2022.3.2-cp38-cp38-manylinux_2_17_x86_64.manylinux2014_x86_64.whl (764 kB)\n",
      "Requirement already satisfied: pyparsing!=3.0.5,>=2.0.2 in /home/ec2-user/anaconda3/envs/t2s/lib/python3.8/site-packages (from packaging>=20.9->huggingface-hub->espnet_model_zoo) (3.0.7)\n",
      "Requirement already satisfied: six>=1.5 in /home/ec2-user/anaconda3/envs/t2s/lib/python3.8/site-packages (from python-dateutil>=2.8.1->pandas->espnet_model_zoo) (1.16.0)\n",
      "Requirement already satisfied: cffi>=1.0 in /home/ec2-user/anaconda3/envs/t2s/lib/python3.8/site-packages (from soundfile>=0.10.2->espnet->espnet_model_zoo) (1.15.0)\n",
      "Collecting einops\n",
      "  Using cached einops-0.4.1-py3-none-any.whl (28 kB)\n",
      "Collecting g2p-en\n",
      "  Using cached g2p_en-2.1.0-py3-none-any.whl (3.1 MB)\n",
      "Collecting inflect>=1.0.0\n",
      "  Using cached inflect-5.4.0-py3-none-any.whl (33 kB)\n",
      "Collecting jaconv\n",
      "  Using cached jaconv-0.3-py3-none-any.whl\n",
      "Collecting unidecode>=1.0.22\n",
      "  Using cached Unidecode-1.3.3-py3-none-any.whl (235 kB)\n",
      "Requirement already satisfied: pycparser in /home/ec2-user/anaconda3/envs/t2s/lib/python3.8/site-packages (from cffi>=1.0->soundfile>=0.10.2->espnet->espnet_model_zoo) (2.21)\n",
      "Requirement already satisfied: llvmlite<0.39,>=0.38.0rc1 in /home/ec2-user/anaconda3/envs/t2s/lib/python3.8/site-packages (from numba>=0.45.1->librosa>=0.8.0->espnet->espnet_model_zoo) (0.38.0)\n",
      "Requirement already satisfied: appdirs>=1.3.0 in /home/ec2-user/anaconda3/envs/t2s/lib/python3.8/site-packages (from pooch>=1.0->librosa>=0.8.0->espnet->espnet_model_zoo) (1.4.4)\n",
      "Requirement already satisfied: threadpoolctl>=2.0.0 in /home/ec2-user/anaconda3/envs/t2s/lib/python3.8/site-packages (from scikit-learn>=0.19.1->librosa>=0.8.0->espnet->espnet_model_zoo) (3.1.0)\n",
      "Collecting distance>=0.1.3\n",
      "  Using cached Distance-0.1.3-py3-none-any.whl\n",
      "Installing collected packages: sentencepiece, pytz, jamo, jaconv, einops, distance, unidecode, typeguard, torch-complex, regex, pyworld, pytorch-wpe, inflect, humanfriendly, ctc-segmentation, configargparse, click, pandas, nltk, huggingface-hub, ci-sdr, g2p-en, espnet-tts-frontend, espnet, espnet_model_zoo\n",
      "Successfully installed ci-sdr-0.0.0 click-8.0.4 configargparse-1.5.3 ctc-segmentation-1.7.1 distance-0.1.3 einops-0.4.1 espnet-0.10.6 espnet-tts-frontend-0.0.3 espnet_model_zoo-0.1.7 g2p-en-2.1.0 huggingface-hub-0.4.0 humanfriendly-10.0 inflect-5.4.0 jaconv-0.3 jamo-0.4.1 nltk-3.7 pandas-1.4.1 pytorch-wpe-0.0.1 pytz-2021.3 pyworld-0.3.0 regex-2022.3.2 sentencepiece-0.1.96 torch-complex-0.4.3 typeguard-2.13.3 unidecode-1.3.3\n"
     ]
    }
   ],
   "source": [
    "!pip install espnet_model_zoo"
   ]
  },
  {
   "cell_type": "code",
   "execution_count": 7,
   "id": "dd6ea96d",
   "metadata": {},
   "outputs": [],
   "source": [
    "\n",
    "lang = 'English'\n",
    "tag = 'kan-bayashi/ljspeech_tacotron2' \n",
    "vocoder_tag = \"parallel_wavegan/ljspeech_parallel_wavegan.v1\" "
   ]
  },
  {
   "cell_type": "code",
   "execution_count": 8,
   "id": "c29a4b7a",
   "metadata": {},
   "outputs": [
    {
     "name": "stderr",
     "output_type": "stream",
     "text": [
      "/home/ec2-user/anaconda3/envs/t2s/lib/python3.8/site-packages/tqdm/auto.py:22: TqdmWarning: IProgress not found. Please update jupyter and ipywidgets. See https://ipywidgets.readthedocs.io/en/stable/user_install.html\n",
      "  from .autonotebook import tqdm as notebook_tqdm\n",
      "[nltk_data] Downloading package averaged_perceptron_tagger to\n",
      "[nltk_data]     /home/ec2-user/nltk_data...\n",
      "[nltk_data]   Unzipping taggers/averaged_perceptron_tagger.zip.\n",
      "[nltk_data] Downloading package cmudict to /home/ec2-user/nltk_data...\n",
      "[nltk_data]   Unzipping corpora/cmudict.zip.\n",
      "https://zenodo.org/record/3989498/files/tts_train_tacotron2_raw_phn_tacotron_g2p_en_no_space_train.loss.best.zip?download=1: 100%|██████████| 102M/102M [00:54<00:00, 1.98MB/s] \n",
      "Downloading...\n",
      "From: https://drive.google.com/uc?id=1PdZv37JhAQH6AwNh31QlqruqrvjTBq7U\n",
      "To: /home/ec2-user/.cache/parallel_wavegan/ljspeech_parallel_wavegan.v1.tar.gz\n",
      "100%|██████████| 15.9M/15.9M [00:00<00:00, 42.2MB/s]\n"
     ]
    }
   ],
   "source": [
    "from espnet2.bin.tts_inference import Text2Speech\n",
    "from espnet2.utils.types import str_or_none\n",
    "\n",
    "text2speech = Text2Speech.from_pretrained(\n",
    "    model_tag=str_or_none(tag),\n",
    "    vocoder_tag=str_or_none(vocoder_tag),\n",
    "    device=\"cuda\",\n",
    "    # Only for Tacotron 2 & Transformer\n",
    "    threshold=0.5,\n",
    "    # Only for Tacotron 2\n",
    "    minlenratio=0.0,\n",
    "    maxlenratio=10.0,\n",
    "    use_att_constraint=False,\n",
    "    backward_window=1,\n",
    "    forward_window=3,\n",
    "    # Only for FastSpeech & FastSpeech2 & VITS\n",
    "    speed_control_alpha=1.0,\n",
    "    # Only for VITS\n",
    "    noise_scale=0.333,\n",
    "    noise_scale_dur=0.333,\n",
    ")"
   ]
  },
  {
   "cell_type": "code",
   "execution_count": 9,
   "id": "014a4c36",
   "metadata": {},
   "outputs": [],
   "source": [
    "import time\n",
    "import torch\n",
    "\n"
   ]
  },
  {
   "cell_type": "code",
   "execution_count": 10,
   "id": "d035c3ee",
   "metadata": {},
   "outputs": [
    {
     "name": "stdout",
     "output_type": "stream",
     "text": [
      "Input your favorite sentence in English.\n"
     ]
    },
    {
     "name": "stdin",
     "output_type": "stream",
     "text": [
      " Oh wow it works here as well\n"
     ]
    }
   ],
   "source": [
    "# decide the input sentence by yourself\n",
    "print(f\"Input your favorite sentence in {lang}.\")\n",
    "x = input()\n",
    "\n"
   ]
  },
  {
   "cell_type": "code",
   "execution_count": null,
   "id": "6ceaad88",
   "metadata": {},
   "outputs": [],
   "source": [
    "# synthesis\n",
    "with torch.no_grad():\n",
    "    start = time.time()\n",
    "    wav = text2speech(x)[\"wav\"]\n",
    "rtf = (time.time() - start) / (len(wav) / text2speech.fs)\n",
    "print(f\"RTF = {rtf:5f}\")\n",
    "\n",
    "# let us listen to generated samples\n",
    "from IPython.display import display, Audio\n",
    "display(Audio(wav.view(-1).cpu().numpy(), rate=text2speech.fs))"
   ]
  }
 ],
 "metadata": {
  "kernelspec": {
   "display_name": "conda_t2s",
   "language": "python",
   "name": "conda_t2s"
  },
  "language_info": {
   "codemirror_mode": {
    "name": "ipython",
    "version": 3
   },
   "file_extension": ".py",
   "mimetype": "text/x-python",
   "name": "python",
   "nbconvert_exporter": "python",
   "pygments_lexer": "ipython3",
   "version": "3.8.12"
  }
 },
 "nbformat": 4,
 "nbformat_minor": 5
}
