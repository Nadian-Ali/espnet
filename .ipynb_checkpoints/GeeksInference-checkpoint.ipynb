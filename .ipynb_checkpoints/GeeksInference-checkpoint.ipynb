{
 "cells": [
  {
   "cell_type": "code",
   "execution_count": 1,
   "id": "72fb65ed",
   "metadata": {},
   "outputs": [
    {
     "data": {
      "text/plain": [
       "'/home/ec2-user/SageMaker/espnet'"
      ]
     },
     "execution_count": 1,
     "metadata": {},
     "output_type": "execute_result"
    }
   ],
   "source": [
    "%pwd"
   ]
  },
  {
   "cell_type": "code",
   "execution_count": null,
   "id": "f3ce170a",
   "metadata": {},
   "outputs": [
    {
     "name": "stdout",
     "output_type": "stream",
     "text": [
      "Collecting package metadata (current_repodata.json): done\n",
      "Solving environment: \\ \n",
      "The environment is inconsistent, please check the package plan carefully\n",
      "The following packages are causing the inconsistency:\n",
      "\n",
      "  - conda-forge/noarch::nbclient==0.5.2=pyhd8ed1ab_0\n",
      "  - defaults/linux-64::jpeg==9b=h024ee3a_2\n",
      "  - conda-forge/linux-64::matplotlib==3.3.4=py36h5fab9bb_0\n",
      "  - defaults/linux-64::lcms2==2.11=h396b838_0\n",
      "  - conda-forge/noarch::qdarkstyle==2.8.1=pyhd8ed1ab_2\n",
      "  - conda-forge/linux-64::scikit-image==0.16.2=py36hb3f55d8_0\n",
      "  - conda-forge/linux-64::astropy==4.1=py36ha112f06_2\n",
      "  - conda-forge/noarch::python-language-server==0.36.2=pyhd8ed1ab_0\n",
      "  - conda-forge/linux-64::widgetsnbextension==3.5.1=py36h5fab9bb_4\n",
      "  - conda-forge/noarch::flake8==3.8.4=py_0\n",
      "  - conda-forge/noarch::ipywidgets==7.6.3=pyhd3deb0d_0\n",
      "  - conda-forge/linux-64::bottleneck==1.3.2=py36h92226af_3\n",
      "  - pytorch/linux-64::pytorch==1.7.1=py3.6_cuda10.1.243_cudnn7.6.3_0\n",
      "  - conda-forge/noarch::pytest-astropy-header==0.1.2=py_0\n",
      "  - conda-forge/noarch::pytest-doctestplus==0.9.0=pyhd8ed1ab_0\n",
      "  - conda-forge/noarch::pytest-arraydiff==0.3=py_0\n",
      "  - pytorch/noarch::torch-model-archiver==0.2.1=py36_0\n",
      "  - conda-forge/noarch::typing-extensions==3.7.4.3=0\n",
      "  - conda-forge/noarch::path.py==12.5.0=0\n",
      "  - conda-forge/noarch::dask==2021.2.0=pyhd8ed1ab_0\n",
      "  - conda-forge/noarch::nbformat==5.1.2=pyhd8ed1ab_1\n",
      "  - conda-forge/linux-64::path==15.1.2=py36h5fab9bb_0\n",
      "  - defaults/linux-64::numpy==1.19.2=py36h54aff64_0\n",
      "  - conda-forge/linux-64::nbconvert==6.0.7=py36h5fab9bb_3\n",
      "  - conda-forge/noarch::anaconda-client==1.7.2=py_0\n",
      "  - conda-forge/noarch::pytest-cov==2.11.1=pyh44b312d_0\n",
      "  - conda-forge/noarch::pytest-mock==3.5.1=pyhd8ed1ab_0\n",
      "  - conda-forge/linux-64::scikit-learn==0.24.1=py36he4fde30_0\n",
      "  - defaults/linux-64::numpy-base==1.19.2=py36hfa32c7d_0\n",
      "  - conda-forge/noarch::qtconsole==5.0.2=pyhd8ed1ab_0\n",
      "  - conda-forge/noarch::patsy==0.5.1=py_0\n",
      "  - conda-forge/noarch::aioitertools==0.7.1=pyhd8ed1ab_0\n",
      "  - conda-forge/linux-64::matplotlib-base==3.3.4=py36hd391965_0\n",
      "  - conda-forge/linux-64::mkl_random==1.2.0=py36h7c3b610_1\n",
      "  - conda-forge/linux-64::pluggy==0.13.1=py36h5fab9bb_4\n",
      "  - conda-forge/linux-64::bkcharts==0.2=py36_0\n",
      "  - conda-forge/noarch::black==20.8b1=py_1\n",
      "  - conda-forge/noarch::pyls-spyder==0.3.2=pyhd8ed1ab_0\n",
      "  - conda-forge/linux-64::pango==1.42.4=h7062337_4\n",
      "  - conda-forge/linux-64::h5py==3.1.0=nompi_py36hc1bc4f5_100\n",
      "  - conda-forge/linux-64::harfbuzz==2.4.0=h37c48d4_1\n",
      "  - conda-forge/linux-64::scipy==1.5.3=py36h9e8f40b_0\n",
      "  - conda-forge/noarch::pytest-astropy==0.8.0=pyhd8ed1ab_0\n",
      "  - conda-forge/linux-64::pandas==1.1.5=py36h284efc9_0\n",
      "  - conda-forge/linux-64::keyring==22.0.1=py36h5fab9bb_0\n",
      "  - conda-forge/noarch::pytest-filter-subpackage==0.1.1=py_0\n",
      "  - conda-forge/noarch::anaconda-project==0.9.1=pyhd8ed1ab_0\n",
      "  - conda-forge/noarch::importlib_metadata==3.7.0=hd8ed1ab_0\n",
      "  - pytorch/noarch::torchserve==0.2.1=py36_0\n",
      "  - conda-forge/linux-64::jupyter==1.0.0=py36h5fab9bb_6\n",
      "  - conda-forge/noarch::jupyterlab_server==2.3.0=pyhd8ed1ab_0\n",
      "  - defaults/linux-64::qt==5.9.7=h5867ecd_1\n",
      "  - conda-forge/noarch::seaborn-base==0.11.1=pyhd8ed1ab_1\n",
      "  - pytorch/linux-64::torchvision==0.8.2=py36_cu101\n",
      "  - conda-forge/noarch::pytest-openfiles==0.5.0=py_0\n",
      "  - conda-forge/noarch::imageio==2.9.0=py_0\n",
      "  - conda-forge/noarch::pytest-remotedata==0.3.2=pyh9f0ad1d_0\n",
      "  - conda-forge/noarch::numpydoc==1.1.0=py_1\n",
      "  - conda-forge/linux-64::yarl==1.6.3=py36h8f6f2f9_1\n",
      "  - conda-forge/noarch::jsonschema==3.2.0=py_2\n",
      "  - conda-forge/noarch::flask==1.1.2=pyh9f0ad1d_0\n",
      "  - conda-forge/linux-64::pytables==3.6.1=py36hb7ec5aa_3\n",
      "  - conda-forge/linux-64::numexpr==2.7.2=py36h284efc9_0\n",
      "  - conda-forge/linux-64::pywavelets==1.1.1=py36h92226af_3\n",
      "  - conda-forge/noarch::seaborn==0.11.1=hd8ed1ab_1\n",
      "  - conda-forge/linux-64::fontconfig==2.13.1=he4413a7_1000\n",
      "  - conda-forge/noarch::helpdev==0.7.1=pyhd8ed1ab_0\n",
      "  - conda-forge/linux-64::statsmodels==0.12.2=py36h92226af_0\n",
      "  - conda-forge/linux-64::libxml2==2.9.9=h13577e0_2\n",
      "  - conda-forge/linux-64::nb_conda==2.2.1=py36h5fab9bb_4\n",
      "  - conda-forge/linux-64::numba==0.52.0=py36h284efc9_0\n",
      "  - conda-forge/linux-64::cairo==1.16.0=h18b612c_1001\n",
      "  - conda-forge/linux-64::libxslt==1.1.32=hae48121_1003\n",
      "  - conda-forge/noarch::nbclassic==0.2.6=pyhd8ed1ab_0\n",
      "  - defaults/linux-64::libtiff==4.1.0=h2733197_1\n",
      "  - conda-forge/noarch::sphinx==3.5.1=pyhd8ed1ab_0\n",
      "  - defaults/linux-64::mkl_fft==1.2.1=py36h54f3939_0\n",
      "  - conda-forge/linux-64::pyqt==5.9.2=py36hcca6a23_4\n",
      "  - conda-forge/linux-64::spyder==4.2.0=py36h5fab9bb_0\n",
      "  - conda-forge/linux-64::importlib-metadata==3.7.0=py36h5fab9bb_0\n",
      "  - conda-forge/linux-64::pytest==6.2.2=py36h5fab9bb_0\n",
      "  - conda-forge/noarch::hypothesis==6.3.2=pyhd8ed1ab_0\n",
      "  - conda-forge/noarch::pyls-black==0.4.6=pyh9f0ad1d_0\n",
      "/ "
     ]
    }
   ],
   "source": [
    "!conda install -y -c yaafe libsndfile"
   ]
  },
  {
   "cell_type": "code",
   "execution_count": 1,
   "id": "956ca86b",
   "metadata": {},
   "outputs": [],
   "source": [
    "%%capture\n",
    "# !pip install -q espnet==0.10.6\n",
    "!pip install pyopenjtalk==0.2 \n",
    "!pip install pypinyin==0.44.0\n",
    "# !pip install parallel_wavegan==0.5.4"
   ]
  },
  {
   "cell_type": "code",
   "execution_count": 2,
   "id": "a60aae5d",
   "metadata": {
    "collapsed": true,
    "jupyter": {
     "outputs_hidden": true
    }
   },
   "outputs": [
    {
     "name": "stdout",
     "output_type": "stream",
     "text": [
      "Collecting espnet_model_zoo\n",
      "  Using cached espnet_model_zoo-0.1.7-py3-none-any.whl (19 kB)\n",
      "Requirement already satisfied: numpy in /home/ec2-user/anaconda3/envs/pytorch_latest_p36/lib/python3.6/site-packages (from espnet_model_zoo) (1.19.2)\n",
      "Requirement already satisfied: pandas in /home/ec2-user/anaconda3/envs/pytorch_latest_p36/lib/python3.6/site-packages (from espnet_model_zoo) (1.1.5)\n",
      "Collecting filelock\n",
      "  Downloading filelock-3.4.1-py3-none-any.whl (9.9 kB)\n",
      "Collecting huggingface-hub\n",
      "  Downloading huggingface_hub-0.4.0-py3-none-any.whl (67 kB)\n",
      "     |████████████████████████████████| 67 kB 7.6 MB/s             \n",
      "\u001b[?25hCollecting espnet\n",
      "  Downloading espnet-0.10.1-py3-none-any.whl (797 kB)\n",
      "     |████████████████████████████████| 797 kB 81.4 MB/s            \n",
      "\u001b[?25hRequirement already satisfied: tqdm in /home/ec2-user/anaconda3/envs/pytorch_latest_p36/lib/python3.6/site-packages (from espnet_model_zoo) (4.62.3)\n",
      "Requirement already satisfied: requests in /home/ec2-user/anaconda3/envs/pytorch_latest_p36/lib/python3.6/site-packages (from espnet_model_zoo) (2.26.0)\n",
      "Collecting tensorboard>=1.14\n",
      "  Using cached tensorboard-2.8.0-py3-none-any.whl (5.8 MB)\n",
      "Requirement already satisfied: PyYAML>=5.1.2 in /home/ec2-user/anaconda3/envs/pytorch_latest_p36/lib/python3.6/site-packages (from espnet->espnet_model_zoo) (5.4.1)\n",
      "Collecting torch-complex\n",
      "  Using cached torch_complex-0.4.3-py3-none-any.whl (9.1 kB)\n",
      "Collecting pytorch-wpe\n",
      "  Using cached pytorch_wpe-0.0.1-py3-none-any.whl (8.1 kB)\n",
      "Collecting soundfile>=0.10.2\n",
      "  Using cached SoundFile-0.10.3.post1-py2.py3-none-any.whl (21 kB)\n",
      "Collecting editdistance==0.5.2\n",
      "  Downloading editdistance-0.5.2-cp36-cp36m-manylinux1_x86_64.whl (173 kB)\n",
      "     |████████████████████████████████| 173 kB 104.1 MB/s            \n",
      "\u001b[?25hCollecting humanfriendly\n",
      "  Using cached humanfriendly-10.0-py2.py3-none-any.whl (86 kB)\n",
      "Requirement already satisfied: h5py>=2.10.0 in /home/ec2-user/anaconda3/envs/pytorch_latest_p36/lib/python3.6/site-packages (from espnet->espnet_model_zoo) (3.1.0)\n",
      "Collecting configargparse>=1.2.1\n",
      "  Using cached ConfigArgParse-1.5.3-py3-none-any.whl (20 kB)\n",
      "Requirement already satisfied: pillow>=6.1.0 in /home/ec2-user/anaconda3/envs/pytorch_latest_p36/lib/python3.6/site-packages (from espnet->espnet_model_zoo) (8.4.0)\n",
      "Collecting typeguard>=2.7.0\n",
      "  Using cached typeguard-2.13.3-py3-none-any.whl (17 kB)\n",
      "Collecting pyworld>=0.2.10\n",
      "  Using cached pyworld-0.3.0.tar.gz (212 kB)\n",
      "  Installing build dependencies ... \u001b[?25ldone\n",
      "\u001b[?25h  Getting requirements to build wheel ... \u001b[?25ldone\n",
      "\u001b[?25h  Preparing metadata (pyproject.toml) ... \u001b[?25ldone\n",
      "\u001b[?25hRequirement already satisfied: setuptools>=38.5.1 in /home/ec2-user/anaconda3/envs/pytorch_latest_p36/lib/python3.6/site-packages (from espnet->espnet_model_zoo) (49.6.0.post20210108)\n",
      "Collecting matplotlib==3.1.0\n",
      "  Downloading matplotlib-3.1.0-cp36-cp36m-manylinux1_x86_64.whl (13.1 MB)\n",
      "     |████████████████████████████████| 13.1 MB 9.9 MB/s            \n",
      "\u001b[?25hCollecting librosa>=0.8.0\n",
      "  Using cached librosa-0.9.1-py3-none-any.whl (213 kB)\n",
      "Collecting sentencepiece<0.1.90,>=0.1.82\n",
      "  Downloading sentencepiece-0.1.86-cp36-cp36m-manylinux1_x86_64.whl (1.0 MB)\n",
      "     |████████████████████████████████| 1.0 MB 83.2 MB/s            \n",
      "\u001b[?25hCollecting kaldiio>=2.17.0\n",
      "  Using cached kaldiio-2.17.2.tar.gz (24 kB)\n",
      "  Preparing metadata (setup.py) ... \u001b[?25ldone\n",
      "\u001b[?25hRequirement already satisfied: dataclasses in /home/ec2-user/anaconda3/envs/pytorch_latest_p36/lib/python3.6/site-packages (from espnet->espnet_model_zoo) (0.8)\n",
      "Collecting espnet-tts-frontend\n",
      "  Using cached espnet_tts_frontend-0.0.3-py3-none-any.whl (11 kB)\n",
      "Collecting ci-sdr\n",
      "  Using cached ci_sdr-0.0.0.tar.gz (15 kB)\n",
      "  Preparing metadata (setup.py) ... \u001b[?25ldone\n",
      "\u001b[?25hCollecting wandb\n",
      "  Using cached wandb-0.12.12-py2.py3-none-any.whl (1.8 MB)\n",
      "Requirement already satisfied: scipy>=1.4.1 in /home/ec2-user/anaconda3/envs/pytorch_latest_p36/lib/python3.6/site-packages (from espnet->espnet_model_zoo) (1.5.3)\n",
      "Collecting nltk>=3.4.5\n",
      "  Downloading nltk-3.6.7-py3-none-any.whl (1.5 MB)\n",
      "     |████████████████████████████████| 1.5 MB 52.5 MB/s            \n",
      "\u001b[?25hCollecting tensorboardX>=1.8\n",
      "  Downloading tensorboardX-2.5-py2.py3-none-any.whl (125 kB)\n",
      "     |████████████████████████████████| 125 kB 109.1 MB/s            \n",
      "\u001b[?25hCollecting nara-wpe>=0.0.5\n",
      "  Using cached nara_wpe-0.0.7-py3-none-any.whl (30 kB)\n",
      "Collecting ctc-segmentation<1.8,>=1.6.6\n",
      "  Using cached ctc_segmentation-1.7.1.tar.gz (71 kB)\n",
      "  Preparing metadata (setup.py) ... \u001b[?25ldone\n",
      "\u001b[?25hRequirement already satisfied: pyparsing!=2.0.4,!=2.1.2,!=2.1.6,>=2.0.1 in /home/ec2-user/anaconda3/envs/pytorch_latest_p36/lib/python3.6/site-packages (from matplotlib==3.1.0->espnet->espnet_model_zoo) (2.4.7)\n",
      "Requirement already satisfied: python-dateutil>=2.1 in /home/ec2-user/anaconda3/envs/pytorch_latest_p36/lib/python3.6/site-packages (from matplotlib==3.1.0->espnet->espnet_model_zoo) (2.8.1)\n",
      "Requirement already satisfied: cycler>=0.10 in /home/ec2-user/anaconda3/envs/pytorch_latest_p36/lib/python3.6/site-packages (from matplotlib==3.1.0->espnet->espnet_model_zoo) (0.10.0)\n",
      "Requirement already satisfied: kiwisolver>=1.0.1 in /home/ec2-user/anaconda3/envs/pytorch_latest_p36/lib/python3.6/site-packages (from matplotlib==3.1.0->espnet->espnet_model_zoo) (1.3.1)\n",
      "Requirement already satisfied: packaging>=20.9 in /home/ec2-user/anaconda3/envs/pytorch_latest_p36/lib/python3.6/site-packages (from huggingface-hub->espnet_model_zoo) (21.3)\n",
      "Requirement already satisfied: importlib-metadata in /home/ec2-user/anaconda3/envs/pytorch_latest_p36/lib/python3.6/site-packages (from huggingface-hub->espnet_model_zoo) (3.7.0)\n",
      "Requirement already satisfied: typing-extensions>=3.7.4.3 in /home/ec2-user/anaconda3/envs/pytorch_latest_p36/lib/python3.6/site-packages (from huggingface-hub->espnet_model_zoo) (4.0.1)\n",
      "Requirement already satisfied: pytz>=2017.2 in /home/ec2-user/anaconda3/envs/pytorch_latest_p36/lib/python3.6/site-packages (from pandas->espnet_model_zoo) (2021.1)\n",
      "Requirement already satisfied: idna<4,>=2.5 in /home/ec2-user/anaconda3/envs/pytorch_latest_p36/lib/python3.6/site-packages (from requests->espnet_model_zoo) (3.1)\n",
      "Requirement already satisfied: urllib3<1.27,>=1.21.1 in /home/ec2-user/anaconda3/envs/pytorch_latest_p36/lib/python3.6/site-packages (from requests->espnet_model_zoo) (1.26.8)\n",
      "Requirement already satisfied: charset-normalizer~=2.0.0 in /home/ec2-user/anaconda3/envs/pytorch_latest_p36/lib/python3.6/site-packages (from requests->espnet_model_zoo) (2.0.9)\n",
      "Requirement already satisfied: certifi>=2017.4.17 in /home/ec2-user/anaconda3/envs/pytorch_latest_p36/lib/python3.6/site-packages (from requests->espnet_model_zoo) (2021.5.30)\n",
      "Requirement already satisfied: Cython in /home/ec2-user/anaconda3/envs/pytorch_latest_p36/lib/python3.6/site-packages (from ctc-segmentation<1.8,>=1.6.6->espnet->espnet_model_zoo) (0.29.22)\n",
      "Requirement already satisfied: cached-property in /home/ec2-user/anaconda3/envs/pytorch_latest_p36/lib/python3.6/site-packages (from h5py>=2.10.0->espnet->espnet_model_zoo) (1.5.1)\n",
      "Requirement already satisfied: decorator>=4.0.10 in /home/ec2-user/anaconda3/envs/pytorch_latest_p36/lib/python3.6/site-packages (from librosa>=0.8.0->espnet->espnet_model_zoo) (4.4.2)\n",
      "Requirement already satisfied: scikit-learn>=0.19.1 in /home/ec2-user/anaconda3/envs/pytorch_latest_p36/lib/python3.6/site-packages (from librosa>=0.8.0->espnet->espnet_model_zoo) (0.24.1)\n",
      "Collecting audioread>=2.1.5\n",
      "  Using cached audioread-2.1.9.tar.gz (377 kB)\n",
      "  Preparing metadata (setup.py) ... \u001b[?25ldone\n",
      "\u001b[?25hCollecting pooch>=1.0\n",
      "  Using cached pooch-1.6.0-py3-none-any.whl (56 kB)\n",
      "Requirement already satisfied: joblib>=0.14 in /home/ec2-user/anaconda3/envs/pytorch_latest_p36/lib/python3.6/site-packages (from librosa>=0.8.0->espnet->espnet_model_zoo) (1.0.1)\n",
      "Requirement already satisfied: numba>=0.45.1 in /home/ec2-user/anaconda3/envs/pytorch_latest_p36/lib/python3.6/site-packages (from librosa>=0.8.0->espnet->espnet_model_zoo) (0.52.0)\n",
      "Collecting resampy>=0.2.2\n",
      "  Using cached resampy-0.2.2.tar.gz (323 kB)\n",
      "  Preparing metadata (setup.py) ... \u001b[?25ldone\n",
      "\u001b[?25hRequirement already satisfied: bottleneck in /home/ec2-user/anaconda3/envs/pytorch_latest_p36/lib/python3.6/site-packages (from nara-wpe>=0.0.5->espnet->espnet_model_zoo) (1.3.2)\n",
      "Requirement already satisfied: click in /home/ec2-user/anaconda3/envs/pytorch_latest_p36/lib/python3.6/site-packages (from nara-wpe>=0.0.5->espnet->espnet_model_zoo) (7.1.2)\n",
      "Collecting regex>=2021.8.3\n",
      "  Downloading regex-2022.3.15-cp36-cp36m-manylinux_2_17_x86_64.manylinux2014_x86_64.whl (749 kB)\n",
      "     |████████████████████████████████| 749 kB 100.8 MB/s            \n",
      "\u001b[?25hRequirement already satisfied: six>=1.5 in /home/ec2-user/anaconda3/envs/pytorch_latest_p36/lib/python3.6/site-packages (from python-dateutil>=2.1->matplotlib==3.1.0->espnet->espnet_model_zoo) (1.15.0)\n",
      "Requirement already satisfied: cffi>=1.0 in /home/ec2-user/anaconda3/envs/pytorch_latest_p36/lib/python3.6/site-packages (from soundfile>=0.10.2->espnet->espnet_model_zoo) (1.14.5)\n",
      "Collecting absl-py>=0.4\n",
      "  Using cached absl_py-1.0.0-py3-none-any.whl (126 kB)\n",
      "Requirement already satisfied: protobuf>=3.6.0 in /home/ec2-user/anaconda3/envs/pytorch_latest_p36/lib/python3.6/site-packages (from tensorboard>=1.14->espnet->espnet_model_zoo) (3.19.1)\n",
      "Collecting tensorboard-data-server<0.7.0,>=0.6.0\n",
      "  Using cached tensorboard_data_server-0.6.1-py3-none-manylinux2010_x86_64.whl (4.9 MB)\n",
      "Collecting tensorboard-plugin-wit>=1.6.0\n",
      "  Using cached tensorboard_plugin_wit-1.8.1-py3-none-any.whl (781 kB)\n",
      "Collecting google-auth<3,>=1.6.3\n",
      "  Using cached google_auth-2.6.2-py2.py3-none-any.whl (156 kB)\n",
      "Requirement already satisfied: wheel>=0.26 in /home/ec2-user/anaconda3/envs/pytorch_latest_p36/lib/python3.6/site-packages (from tensorboard>=1.14->espnet->espnet_model_zoo) (0.36.2)\n",
      "Collecting markdown>=2.6.8\n",
      "  Using cached Markdown-3.3.6-py3-none-any.whl (97 kB)\n",
      "Collecting grpcio>=1.24.3\n",
      "  Downloading grpcio-1.44.0-cp36-cp36m-manylinux_2_17_x86_64.manylinux2014_x86_64.whl (4.3 MB)\n",
      "     |████████████████████████████████| 4.3 MB 97.1 MB/s            \n",
      "\u001b[?25hCollecting google-auth-oauthlib<0.5,>=0.4.1\n",
      "  Using cached google_auth_oauthlib-0.4.6-py2.py3-none-any.whl (18 kB)\n",
      "Requirement already satisfied: werkzeug>=0.11.15 in /home/ec2-user/anaconda3/envs/pytorch_latest_p36/lib/python3.6/site-packages (from tensorboard>=1.14->espnet->espnet_model_zoo) (2.0.2)\n",
      "Requirement already satisfied: torch in /home/ec2-user/anaconda3/envs/pytorch_latest_p36/lib/python3.6/site-packages (from ci-sdr->espnet->espnet_model_zoo) (1.7.1)\n",
      "Collecting einops\n",
      "  Using cached einops-0.4.1-py3-none-any.whl (28 kB)\n",
      "Requirement already satisfied: pypinyin in /home/ec2-user/anaconda3/envs/pytorch_latest_p36/lib/python3.6/site-packages (from espnet-tts-frontend->espnet->espnet_model_zoo) (0.44.0)\n",
      "Collecting g2p-en\n",
      "  Using cached g2p_en-2.1.0-py3-none-any.whl (3.1 MB)\n",
      "Collecting inflect>=1.0.0\n",
      "  Downloading inflect-5.3.0-py3-none-any.whl (32 kB)\n",
      "Collecting unidecode>=1.0.22\n",
      "  Using cached Unidecode-1.3.4-py3-none-any.whl (235 kB)\n",
      "Collecting jaconv\n",
      "  Using cached jaconv-0.3.tar.gz (15 kB)\n",
      "  Preparing metadata (setup.py) ... \u001b[?25ldone\n",
      "\u001b[?25hRequirement already satisfied: zipp>=0.5 in /home/ec2-user/anaconda3/envs/pytorch_latest_p36/lib/python3.6/site-packages (from importlib-metadata->huggingface-hub->espnet_model_zoo) (3.4.0)\n",
      "Requirement already satisfied: psutil>=5.0.0 in /home/ec2-user/anaconda3/envs/pytorch_latest_p36/lib/python3.6/site-packages (from wandb->espnet->espnet_model_zoo) (5.8.0)\n",
      "Collecting shortuuid>=0.5.0\n",
      "  Using cached shortuuid-1.0.8-py3-none-any.whl (9.5 kB)\n",
      "Collecting docker-pycreds>=0.4.0\n",
      "  Using cached docker_pycreds-0.4.0-py2.py3-none-any.whl (9.0 kB)\n",
      "Collecting promise<3,>=2.0\n",
      "  Using cached promise-2.3.tar.gz (19 kB)\n",
      "  Preparing metadata (setup.py) ... \u001b[?25ldone\n",
      "\u001b[?25hCollecting setproctitle\n",
      "  Downloading setproctitle-1.2.2-cp36-cp36m-manylinux1_x86_64.whl (35 kB)\n",
      "Collecting pathtools\n",
      "  Using cached pathtools-0.1.2.tar.gz (11 kB)\n",
      "  Preparing metadata (setup.py) ... \u001b[?25ldone\n",
      "\u001b[?25hCollecting sentry-sdk>=1.0.0\n",
      "  Using cached sentry_sdk-1.5.8-py2.py3-none-any.whl (144 kB)\n",
      "Collecting GitPython>=1.0.0\n",
      "  Downloading GitPython-3.1.18-py3-none-any.whl (170 kB)\n",
      "     |████████████████████████████████| 170 kB 111.0 MB/s            \n",
      "\u001b[?25hRequirement already satisfied: pycparser in /home/ec2-user/anaconda3/envs/pytorch_latest_p36/lib/python3.6/site-packages (from cffi>=1.0->soundfile>=0.10.2->espnet->espnet_model_zoo) (2.20)\n",
      "Collecting gitdb<5,>=4.0.1\n",
      "  Using cached gitdb-4.0.9-py3-none-any.whl (63 kB)\n",
      "Collecting cachetools<6.0,>=2.0.0\n",
      "  Downloading cachetools-4.2.4-py3-none-any.whl (10 kB)\n",
      "Collecting pyasn1-modules>=0.2.1\n",
      "  Using cached pyasn1_modules-0.2.8-py2.py3-none-any.whl (155 kB)\n",
      "Requirement already satisfied: rsa<5,>=3.1.4 in /home/ec2-user/anaconda3/envs/pytorch_latest_p36/lib/python3.6/site-packages (from google-auth<3,>=1.6.3->tensorboard>=1.14->espnet->espnet_model_zoo) (4.7.2)\n",
      "Collecting requests-oauthlib>=0.7.0\n",
      "  Using cached requests_oauthlib-1.3.1-py2.py3-none-any.whl (23 kB)\n",
      "Collecting importlib-metadata\n",
      "  Downloading importlib_metadata-4.8.3-py3-none-any.whl (17 kB)\n",
      "Requirement already satisfied: llvmlite<0.36,>=0.35.0 in /home/ec2-user/anaconda3/envs/pytorch_latest_p36/lib/python3.6/site-packages (from numba>=0.45.1->librosa>=0.8.0->espnet->espnet_model_zoo) (0.35.0)\n",
      "Requirement already satisfied: appdirs>=1.3.0 in /home/ec2-user/anaconda3/envs/pytorch_latest_p36/lib/python3.6/site-packages (from pooch>=1.0->librosa>=0.8.0->espnet->espnet_model_zoo) (1.4.4)\n",
      "Requirement already satisfied: threadpoolctl>=2.0.0 in /home/ec2-user/anaconda3/envs/pytorch_latest_p36/lib/python3.6/site-packages (from scikit-learn>=0.19.1->librosa>=0.8.0->espnet->espnet_model_zoo) (2.1.0)\n",
      "Collecting distance>=0.1.3\n",
      "  Using cached Distance-0.1.3.tar.gz (180 kB)\n",
      "  Preparing metadata (setup.py) ... \u001b[?25ldone\n",
      "\u001b[?25hCollecting smmap<6,>=3.0.1\n",
      "  Using cached smmap-5.0.0-py3-none-any.whl (24 kB)\n",
      "Requirement already satisfied: pyasn1<0.5.0,>=0.4.6 in /home/ec2-user/anaconda3/envs/pytorch_latest_p36/lib/python3.6/site-packages (from pyasn1-modules>=0.2.1->google-auth<3,>=1.6.3->tensorboard>=1.14->espnet->espnet_model_zoo) (0.4.8)\n",
      "Collecting oauthlib>=3.0.0\n",
      "  Using cached oauthlib-3.2.0-py3-none-any.whl (151 kB)\n",
      "Building wheels for collected packages: ctc-segmentation, kaldiio, pyworld, ci-sdr, audioread, promise, resampy, jaconv, pathtools, distance\n",
      "  Building wheel for ctc-segmentation (setup.py) ... \u001b[?25ldone\n",
      "\u001b[?25h  Created wheel for ctc-segmentation: filename=ctc_segmentation-1.7.1-cp36-cp36m-linux_x86_64.whl size=43328 sha256=bcd9c13390e3c435d6ad715c10003ebd0b7df396b844c6390b71efd4a04cff3d\n",
      "  Stored in directory: /home/ec2-user/.cache/pip/wheels/fc/d2/f9/d69000bf517538d8bb685a152e2a92d9153f1e7860f8fea2a7\n",
      "  Building wheel for kaldiio (setup.py) ... \u001b[?25ldone\n",
      "\u001b[?25h  Created wheel for kaldiio: filename=kaldiio-2.17.2-py3-none-any.whl size=24468 sha256=cc118cd44f5e80643d8c70409acccd2f17cc59b9ec0ba5148f14cc5d3e82dae8\n",
      "  Stored in directory: /home/ec2-user/.cache/pip/wheels/8b/cd/3f/5af94dd596dbaca2c74979e8819441f089b8fa30868522f731\n",
      "  Building wheel for pyworld (pyproject.toml) ... \u001b[?25ldone\n",
      "\u001b[?25h  Created wheel for pyworld: filename=pyworld-0.3.0-cp36-cp36m-linux_x86_64.whl size=214742 sha256=a65cc7a9708c0708bbcaa88d822bae8c5338441589e62cfd590497412cfa38a8\n",
      "  Stored in directory: /home/ec2-user/.cache/pip/wheels/32/ce/09/0dc35ecfbaf36d8f95b00aa2c5f1648d44e49ce7f56772756f\n",
      "  Building wheel for ci-sdr (setup.py) ... \u001b[?25ldone\n",
      "\u001b[?25h  Created wheel for ci-sdr: filename=ci_sdr-0.0.0-py3-none-any.whl size=14974 sha256=688da4793c64187b4032d39def6e5934a1160ff4fff71061ac1220e332d11103\n",
      "  Stored in directory: /home/ec2-user/.cache/pip/wheels/cd/2f/ca/da7d839c7da2405a257ade3a4cc0c68bcb7f684b740d4b8d1b\n",
      "  Building wheel for audioread (setup.py) ... \u001b[?25ldone\n",
      "\u001b[?25h  Created wheel for audioread: filename=audioread-2.1.9-py3-none-any.whl size=23141 sha256=ba93685acf3b0197cf5166998a3ea0ad038ec0b1a5c8eb0098cb16d2b5803867\n",
      "  Stored in directory: /home/ec2-user/.cache/pip/wheels/de/14/0a/863e4ed680b3204444cf486733e609d7ff7abe8fceafab67dc\n",
      "  Building wheel for promise (setup.py) ... \u001b[?25ldone\n",
      "\u001b[?25h  Created wheel for promise: filename=promise-2.3-py3-none-any.whl size=21494 sha256=b5e9e54263c5f55915c2109bf694a43d53f799eb16bdfcf9ea47645b4f9e8b66\n",
      "  Stored in directory: /home/ec2-user/.cache/pip/wheels/59/9a/1d/3f1afbbb5122d0410547bf9eb50955f4a7a98e53a6d8b99bd1\n",
      "  Building wheel for resampy (setup.py) ... \u001b[?25ldone\n",
      "\u001b[?25h  Created wheel for resampy: filename=resampy-0.2.2-py3-none-any.whl size=320718 sha256=b950169cf5b07424a646e0a835d17154e3cbf8a559ad90ddb09dc21d51190d4a\n",
      "  Stored in directory: /home/ec2-user/.cache/pip/wheels/cf/d4/04/49d8824a42bd9f9b11d502727965b9997f0d41d2b22ae4f645\n",
      "  Building wheel for jaconv (setup.py) ... \u001b[?25ldone\n",
      "\u001b[?25h  Created wheel for jaconv: filename=jaconv-0.3-py3-none-any.whl size=15549 sha256=25f547fe2b2cad5a4f41ac75304baef98dbe0306384e278a778b7e7fe147a11c\n",
      "  Stored in directory: /home/ec2-user/.cache/pip/wheels/62/fe/d9/4ca4897291bc8ec6c78db9ffc5cde0c2551fc373c78ba9e440\n",
      "  Building wheel for pathtools (setup.py) ... \u001b[?25ldone\n",
      "\u001b[?25h  Created wheel for pathtools: filename=pathtools-0.1.2-py3-none-any.whl size=8784 sha256=50d48d183fd80f539eac6714d564737b93fc864917d7a51c718fb39e39f3261a\n",
      "  Stored in directory: /home/ec2-user/.cache/pip/wheels/42/ea/90/e37d463fb3b03848bf715080595de62545266f53dd546b2497\n",
      "  Building wheel for distance (setup.py) ... \u001b[?25ldone\n",
      "\u001b[?25h  Created wheel for distance: filename=Distance-0.1.3-py3-none-any.whl size=16260 sha256=b354e95244155c4b0981c1b623230eb3304aa56c486524b005d446fc5ae50dfe\n",
      "  Stored in directory: /home/ec2-user/.cache/pip/wheels/73/fe/4f/755e0e7c4458783fb3d772007ffd70f6e8c4a6ab7ff40c7767\n",
      "Successfully built ctc-segmentation kaldiio pyworld ci-sdr audioread promise resampy jaconv pathtools distance\n",
      "Installing collected packages: smmap, regex, pyasn1-modules, oauthlib, cachetools, requests-oauthlib, nltk, inflect, importlib-metadata, google-auth, gitdb, distance, unidecode, tensorboard-plugin-wit, tensorboard-data-server, soundfile, shortuuid, setproctitle, sentry-sdk, resampy, promise, pooch, pathtools, markdown, jaconv, grpcio, google-auth-oauthlib, GitPython, g2p-en, einops, docker-pycreds, audioread, absl-py, wandb, typeguard, torch-complex, tensorboardX, tensorboard, sentencepiece, pyworld, pytorch-wpe, nara-wpe, matplotlib, librosa, kaldiio, humanfriendly, filelock, espnet-tts-frontend, editdistance, ctc-segmentation, configargparse, ci-sdr, huggingface-hub, espnet, espnet-model-zoo\n",
      "  Attempting uninstall: regex\n",
      "    Found existing installation: regex 2020.11.13\n",
      "    Uninstalling regex-2020.11.13:\n",
      "      Successfully uninstalled regex-2020.11.13\n",
      "  Attempting uninstall: nltk\n",
      "    Found existing installation: nltk 3.4.4\n",
      "    Uninstalling nltk-3.4.4:\n",
      "      Successfully uninstalled nltk-3.4.4\n",
      "  Attempting uninstall: importlib-metadata\n",
      "    Found existing installation: importlib-metadata 3.7.0\n",
      "    Uninstalling importlib-metadata-3.7.0:\n",
      "      Successfully uninstalled importlib-metadata-3.7.0\n",
      "  Attempting uninstall: matplotlib\n",
      "    Found existing installation: matplotlib 3.3.4\n",
      "    Uninstalling matplotlib-3.3.4:\n",
      "      Successfully uninstalled matplotlib-3.3.4\n",
      "Successfully installed GitPython-3.1.18 absl-py-1.0.0 audioread-2.1.9 cachetools-4.2.4 ci-sdr-0.0.0 configargparse-1.5.3 ctc-segmentation-1.7.1 distance-0.1.3 docker-pycreds-0.4.0 editdistance-0.5.2 einops-0.4.1 espnet-0.10.1 espnet-model-zoo-0.1.7 espnet-tts-frontend-0.0.3 filelock-3.4.1 g2p-en-2.1.0 gitdb-4.0.9 google-auth-2.6.2 google-auth-oauthlib-0.4.6 grpcio-1.44.0 huggingface-hub-0.4.0 humanfriendly-10.0 importlib-metadata-4.8.3 inflect-5.3.0 jaconv-0.3 kaldiio-2.17.2 librosa-0.9.1 markdown-3.3.6 matplotlib-3.1.0 nara-wpe-0.0.7 nltk-3.6.7 oauthlib-3.2.0 pathtools-0.1.2 pooch-1.6.0 promise-2.3 pyasn1-modules-0.2.8 pytorch-wpe-0.0.1 pyworld-0.3.0 regex-2022.3.15 requests-oauthlib-1.3.1 resampy-0.2.2 sentencepiece-0.1.86 sentry-sdk-1.5.8 setproctitle-1.2.2 shortuuid-1.0.8 smmap-5.0.0 soundfile-0.10.3.post1 tensorboard-2.8.0 tensorboard-data-server-0.6.1 tensorboard-plugin-wit-1.8.1 tensorboardX-2.5 torch-complex-0.4.3 typeguard-2.13.3 unidecode-1.3.4 wandb-0.12.12\n",
      "Collecting jamo\n",
      "  Using cached jamo-0.4.1-py3-none-any.whl (9.5 kB)\n",
      "Installing collected packages: jamo\n",
      "Successfully installed jamo-0.4.1\n",
      "Requirement already satisfied: typeguard in /home/ec2-user/anaconda3/envs/pytorch_latest_p36/lib/python3.6/site-packages (2.13.3)\n",
      "Requirement already satisfied: humanfriendly in /home/ec2-user/anaconda3/envs/pytorch_latest_p36/lib/python3.6/site-packages (10.0)\n",
      "Requirement already satisfied: torch-complex in /home/ec2-user/anaconda3/envs/pytorch_latest_p36/lib/python3.6/site-packages (0.4.3)\n",
      "Requirement already satisfied: numpy in /home/ec2-user/anaconda3/envs/pytorch_latest_p36/lib/python3.6/site-packages (from torch-complex) (1.19.2)\n"
     ]
    }
   ],
   "source": [
    "!pip install espnet_model_zoo\n",
    "!pip install jamo\n",
    "!pip install typeguard\n",
    "!pip install humanfriendly\n",
    "!pip install torch-complex"
   ]
  },
  {
   "cell_type": "code",
   "execution_count": null,
   "id": "a0f1f953",
   "metadata": {},
   "outputs": [],
   "source": []
  },
  {
   "cell_type": "code",
   "execution_count": 3,
   "id": "f8bb5842",
   "metadata": {},
   "outputs": [
    {
     "name": "stdout",
     "output_type": "stream",
     "text": [
      "/home/ec2-user/SageMaker/espnet\n"
     ]
    }
   ],
   "source": [
    "%cd '/home/ec2-user/SageMaker/espnet'"
   ]
  },
  {
   "cell_type": "code",
   "execution_count": 4,
   "id": "fc11c29d",
   "metadata": {},
   "outputs": [
    {
     "ename": "OSError",
     "evalue": "sndfile library not found",
     "output_type": "error",
     "traceback": [
      "\u001b[0;31m---------------------------------------------------------------------------\u001b[0m",
      "\u001b[0;31mOSError\u001b[0m                                   Traceback (most recent call last)",
      "\u001b[0;32m<ipython-input-4-59548d78e3a7>\u001b[0m in \u001b[0;36m<module>\u001b[0;34m\u001b[0m\n\u001b[0;32m----> 1\u001b[0;31m \u001b[0;32mfrom\u001b[0m \u001b[0mespnet2\u001b[0m\u001b[0;34m.\u001b[0m\u001b[0mbin\u001b[0m\u001b[0;34m.\u001b[0m\u001b[0mtts_inference\u001b[0m \u001b[0;32mimport\u001b[0m \u001b[0mText2Speech\u001b[0m\u001b[0;34m\u001b[0m\u001b[0;34m\u001b[0m\u001b[0m\n\u001b[0m\u001b[1;32m      2\u001b[0m \u001b[0;32mfrom\u001b[0m \u001b[0mespnet2\u001b[0m\u001b[0;34m.\u001b[0m\u001b[0mutils\u001b[0m\u001b[0;34m.\u001b[0m\u001b[0mtypes\u001b[0m \u001b[0;32mimport\u001b[0m \u001b[0mstr_or_none\u001b[0m\u001b[0;34m\u001b[0m\u001b[0;34m\u001b[0m\u001b[0m\n\u001b[1;32m      3\u001b[0m \u001b[0;32mimport\u001b[0m \u001b[0mtime\u001b[0m\u001b[0;34m\u001b[0m\u001b[0;34m\u001b[0m\u001b[0m\n\u001b[1;32m      4\u001b[0m \u001b[0;32mimport\u001b[0m \u001b[0mtorch\u001b[0m\u001b[0;34m\u001b[0m\u001b[0;34m\u001b[0m\u001b[0m\n\u001b[1;32m      5\u001b[0m \u001b[0;32mfrom\u001b[0m \u001b[0mtypeguard\u001b[0m \u001b[0;32mimport\u001b[0m \u001b[0mcheck_argument_types\u001b[0m\u001b[0;34m\u001b[0m\u001b[0;34m\u001b[0m\u001b[0m\n",
      "\u001b[0;32m~/SageMaker/espnet/espnet2/bin/tts_inference.py\u001b[0m in \u001b[0;36m<module>\u001b[0;34m\u001b[0m\n\u001b[1;32m     19\u001b[0m \u001b[0;34m\u001b[0m\u001b[0m\n\u001b[1;32m     20\u001b[0m \u001b[0;32mimport\u001b[0m \u001b[0mnumpy\u001b[0m \u001b[0;32mas\u001b[0m \u001b[0mnp\u001b[0m\u001b[0;34m\u001b[0m\u001b[0;34m\u001b[0m\u001b[0m\n\u001b[0;32m---> 21\u001b[0;31m \u001b[0;32mimport\u001b[0m \u001b[0msoundfile\u001b[0m \u001b[0;32mas\u001b[0m \u001b[0msf\u001b[0m\u001b[0;34m\u001b[0m\u001b[0;34m\u001b[0m\u001b[0m\n\u001b[0m\u001b[1;32m     22\u001b[0m \u001b[0;32mimport\u001b[0m \u001b[0mtorch\u001b[0m\u001b[0;34m\u001b[0m\u001b[0;34m\u001b[0m\u001b[0m\n\u001b[1;32m     23\u001b[0m \u001b[0;34m\u001b[0m\u001b[0m\n",
      "\u001b[0;32m~/anaconda3/envs/pytorch_latest_p36/lib/python3.6/site-packages/soundfile.py\u001b[0m in \u001b[0;36m<module>\u001b[0;34m\u001b[0m\n\u001b[1;32m    140\u001b[0m     \u001b[0m_libname\u001b[0m \u001b[0;34m=\u001b[0m \u001b[0m_find_library\u001b[0m\u001b[0;34m(\u001b[0m\u001b[0;34m'sndfile'\u001b[0m\u001b[0;34m)\u001b[0m\u001b[0;34m\u001b[0m\u001b[0;34m\u001b[0m\u001b[0m\n\u001b[1;32m    141\u001b[0m     \u001b[0;32mif\u001b[0m \u001b[0m_libname\u001b[0m \u001b[0;32mis\u001b[0m \u001b[0;32mNone\u001b[0m\u001b[0;34m:\u001b[0m\u001b[0;34m\u001b[0m\u001b[0;34m\u001b[0m\u001b[0m\n\u001b[0;32m--> 142\u001b[0;31m         \u001b[0;32mraise\u001b[0m \u001b[0mOSError\u001b[0m\u001b[0;34m(\u001b[0m\u001b[0;34m'sndfile library not found'\u001b[0m\u001b[0;34m)\u001b[0m\u001b[0;34m\u001b[0m\u001b[0;34m\u001b[0m\u001b[0m\n\u001b[0m\u001b[1;32m    143\u001b[0m     \u001b[0m_snd\u001b[0m \u001b[0;34m=\u001b[0m \u001b[0m_ffi\u001b[0m\u001b[0;34m.\u001b[0m\u001b[0mdlopen\u001b[0m\u001b[0;34m(\u001b[0m\u001b[0m_libname\u001b[0m\u001b[0;34m)\u001b[0m\u001b[0;34m\u001b[0m\u001b[0;34m\u001b[0m\u001b[0m\n\u001b[1;32m    144\u001b[0m \u001b[0;32mexcept\u001b[0m \u001b[0mOSError\u001b[0m\u001b[0;34m:\u001b[0m\u001b[0;34m\u001b[0m\u001b[0;34m\u001b[0m\u001b[0m\n",
      "\u001b[0;31mOSError\u001b[0m: sndfile library not found"
     ]
    }
   ],
   "source": [
    "from espnet2.bin.tts_inference import Text2Speech\n",
    "from espnet2.utils.types import str_or_none\n",
    "import time\n",
    "import torch\n",
    "from typeguard import check_argument_types\n",
    "import humanfriendly"
   ]
  },
  {
   "cell_type": "code",
   "execution_count": 12,
   "id": "d544e086",
   "metadata": {},
   "outputs": [
    {
     "data": {
      "text/plain": [
       "'/home/ec2-user/SageMaker/espnet'"
      ]
     },
     "execution_count": 12,
     "metadata": {},
     "output_type": "execute_result"
    }
   ],
   "source": [
    "%pwd"
   ]
  },
  {
   "cell_type": "code",
   "execution_count": 13,
   "id": "e6336806",
   "metadata": {},
   "outputs": [
    {
     "name": "stdout",
     "output_type": "stream",
     "text": [
      "/home/ec2-user/SageMaker\n"
     ]
    }
   ],
   "source": [
    "%cd /home/ec2-user/SageMaker"
   ]
  },
  {
   "cell_type": "code",
   "execution_count": 76,
   "id": "b3b82771",
   "metadata": {},
   "outputs": [],
   "source": [
    "# !rm -rf exp"
   ]
  },
  {
   "cell_type": "code",
   "execution_count": 14,
   "id": "b816e5ad",
   "metadata": {},
   "outputs": [],
   "source": [
    "# text2speech = Text2Speech(device = \"gpu\")\n",
    "text2speech = Text2Speech.from_pretrained(\n",
    "#     model_tag=str_or_none(tag),\n",
    "    train_config = \"/home/ec2-user/SageMaker/exp/tts_train_tacotron2_raw_phn_tacotron_g2p_en_no_space/config.yaml\",\n",
    "    model_file=\"/home/ec2-user/SageMaker/exp/tts_train_tacotron2_raw_phn_tacotron_g2p_en_no_space/199epoch.pth\",\n",
    "#     vocoder_tag=str_or_none(vocoder_tag),\n",
    "    vocoder_file = '/home/ec2-user/SageMaker/traindv3/checkpoint-3000000steps.pkl',\n",
    "    device=\"cpu\",\n",
    "    # Only for Tacotron 2 & Transformer\n",
    "    threshold=0.5,\n",
    "    # Only for Tacotron 2\n",
    "    minlenratio=0.0,\n",
    "    maxlenratio=10.0,\n",
    "    use_att_constraint=False,\n",
    "    backward_window=1,\n",
    "    forward_window=3,\n",
    "    # Only for FastSpeech & FastSpeech2 & VITS\n",
    "    speed_control_alpha=1.0,\n",
    "    # Only for VITS\n",
    "    noise_scale=0.333,\n",
    "    noise_scale_dur=0.333,\n",
    "#     device = \"cude\",\n",
    ")"
   ]
  },
  {
   "cell_type": "code",
   "execution_count": 15,
   "id": "be1d6f46",
   "metadata": {},
   "outputs": [],
   "source": [
    "\n",
    "# from espnet2.bin.tts_inference import Text2Speech\n",
    "# from espnet2.utils.types import str_or_none\n"
   ]
  },
  {
   "cell_type": "code",
   "execution_count": 19,
   "id": "cdca3eaa",
   "metadata": {},
   "outputs": [],
   "source": [
    "# from torch_complex.tensor import ComplexTensor"
   ]
  },
  {
   "cell_type": "code",
   "execution_count": 17,
   "id": "5202203b",
   "metadata": {},
   "outputs": [
    {
     "name": "stdout",
     "output_type": "stream",
     "text": [
      "Input your favorite sentence in english.\n"
     ]
    },
    {
     "name": "stdin",
     "output_type": "stream",
     "text": [
      " shodi?\n"
     ]
    }
   ],
   "source": [
    "lang = 'english'\n",
    "# decide the input sentence by yourself\n",
    "print(f\"Input your favorite sentence in {lang}.\")\n",
    "x = input()\n",
    "\n"
   ]
  },
  {
   "cell_type": "code",
   "execution_count": 18,
   "id": "87bfebbd",
   "metadata": {},
   "outputs": [
    {
     "name": "stdout",
     "output_type": "stream",
     "text": [
      "RTF = 4.276392\n"
     ]
    },
    {
     "data": {
      "text/html": [
       "\n",
       "                <audio  controls=\"controls\" >\n",
       "                    <source src=\"data:audio/wav;base64,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\" type=\"audio/wav\" />\n",
       "                    Your browser does not support the audio element.\n",
       "                </audio>\n",
       "              "
      ],
      "text/plain": [
       "<IPython.lib.display.Audio object>"
      ]
     },
     "metadata": {},
     "output_type": "display_data"
    }
   ],
   "source": [
    "# synthesis\n",
    "with torch.no_grad():\n",
    "    start = time.time()\n",
    "    wav = text2speech(x)[\"wav\"]\n",
    "rtf = (time.time() - start) / (len(wav) / text2speech.fs)\n",
    "print(f\"RTF = {rtf:5f}\")\n",
    "\n",
    "# let us listen to generated samples\n",
    "from IPython.display import display, Audio\n",
    "display(Audio(wav.view(-1).cpu().numpy(), rate=text2speech.fs))"
   ]
  }
 ],
 "metadata": {
  "kernelspec": {
   "display_name": "conda_pytorch_latest_p36",
   "language": "python",
   "name": "conda_pytorch_latest_p36"
  },
  "language_info": {
   "codemirror_mode": {
    "name": "ipython",
    "version": 3
   },
   "file_extension": ".py",
   "mimetype": "text/x-python",
   "name": "python",
   "nbconvert_exporter": "python",
   "pygments_lexer": "ipython3",
   "version": "3.6.13"
  }
 },
 "nbformat": 4,
 "nbformat_minor": 5
}
